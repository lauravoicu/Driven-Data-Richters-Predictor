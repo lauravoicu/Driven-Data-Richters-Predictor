{
 "cells": [
  {
   "cell_type": "markdown",
   "metadata": {},
   "source": [
    "# Richter's Predictor: Modeling Earthquake Damage\n",
    "\n",
    "Based on aspects of building location and construction, the goal is to predict the level of damage to buildings caused by the 2015 Gorkha earthquake in Nepal.\n",
    "\n",
    "The data was collected through surveys by [Kathmandu Living Labs](http://www.kathmandulivinglabs.org) and the [Central Bureau of Statistics](https://cbs.gov.np), which works under the National Planning Commission Secretariat of Nepal. This survey is **one of the largest post-disaster datasets ever collected**, containing valuable information on earthquake impacts, household conditions, and socio-economic-demographic statistics."
   ]
  },
  {
   "cell_type": "code",
   "execution_count": 1,
   "metadata": {},
   "outputs": [],
   "source": [
    "import pandas as pd\n",
    "import numpy as np\n",
    "import os\n",
    "import re\n",
    "\n",
    "import string \n",
    "import seaborn as sns \n",
    "import matplotlib as mpl\n",
    "import matplotlib.pyplot as plt"
   ]
  },
  {
   "cell_type": "code",
   "execution_count": 2,
   "metadata": {},
   "outputs": [],
   "source": [
    "# ! pip install imbalanced-learn\n",
    "import imblearn\n",
    "# print(imblearn.__version__)\n",
    "from imblearn.over_sampling import SMOTE"
   ]
  },
  {
   "cell_type": "code",
   "execution_count": 3,
   "metadata": {},
   "outputs": [],
   "source": [
    "import sklearn\n",
    "\n",
    "from sklearn.model_selection import GridSearchCV, RandomizedSearchCV, train_test_split, StratifiedKFold\n",
    "\n",
    "from sklearn.pipeline import Pipeline\n",
    "\n",
    "from sklearn import metrics\n",
    "from sklearn.metrics import classification_report, f1_score, roc_auc_score, roc_curve, confusion_matrix\n",
    "\n",
    "from sklearn.ensemble import RandomForestClassifier\n",
    "\n",
    "import multiprocessing"
   ]
  },
  {
   "cell_type": "code",
   "execution_count": 4,
   "metadata": {},
   "outputs": [],
   "source": [
    "pd.set_option('display.max_rows', None)\n",
    "pd.set_option('display.max_columns', None)\n",
    "pd.set_option('display.width', None)\n",
    "pd.set_option('display.max_colwidth', None)"
   ]
  },
  {
   "cell_type": "code",
   "execution_count": 5,
   "metadata": {},
   "outputs": [],
   "source": [
    "# Load data set\n",
    "train = pd.read_csv(os.path.join('', 'Richters_Predictor_Modeling_Earthquake_Damage_-_Train_Values.csv'))"
   ]
  },
  {
   "cell_type": "code",
   "execution_count": 6,
   "metadata": {},
   "outputs": [],
   "source": [
    "test = pd.read_csv(os.path.join('', 'Richters_Predictor_Modeling_Earthquake_Damage_-_Test_Values.csv'))"
   ]
  },
  {
   "cell_type": "code",
   "execution_count": 7,
   "metadata": {},
   "outputs": [],
   "source": [
    "labels = pd.read_csv(os.path.join('', 'Richters_Predictor_Modeling_Earthquake_Damage_-_Train_Labels.csv'))"
   ]
  },
  {
   "cell_type": "code",
   "execution_count": 8,
   "metadata": {},
   "outputs": [
    {
     "data": {
      "text/plain": [
       "2    0.568912\n",
       "3    0.334680\n",
       "1    0.096408\n",
       "Name: damage_grade, dtype: float64"
      ]
     },
     "execution_count": 8,
     "metadata": {},
     "output_type": "execute_result"
    }
   ],
   "source": [
    "labels.damage_grade.value_counts()/len(labels.damage_grade)"
   ]
  },
  {
   "cell_type": "markdown",
   "metadata": {},
   "source": [
    "**Remarks:**\n",
    "\n",
    "- According to these results, we can say that there are 56.89% of the building suffered a medium amount of damage, 33.46% of the building were almost completely distructed and 9.64% of the building suffered a low damage.\n",
    "\n",
    "- Class \"low damage\" is imbalanced, and might need upsampling. Another option to deal with the imbalance is to choose an appropriate metric, like F1 score or AUC."
   ]
  },
  {
   "cell_type": "code",
   "execution_count": 9,
   "metadata": {},
   "outputs": [
    {
     "data": {
      "text/plain": [
       "int64     31\n",
       "object     8\n",
       "dtype: int64"
      ]
     },
     "execution_count": 9,
     "metadata": {},
     "output_type": "execute_result"
    }
   ],
   "source": [
    "train.dtypes.value_counts()"
   ]
  },
  {
   "cell_type": "code",
   "execution_count": 10,
   "metadata": {},
   "outputs": [
    {
     "name": "stdout",
     "output_type": "stream",
     "text": [
      "Object data types:\n",
      "\n"
     ]
    }
   ],
   "source": [
    "print('Object data types:\\n')\n",
    "#we'll use the function later, without wanting to print anything\n",
    "def get_obj(train, p = False):\n",
    "    obj_types = []\n",
    "    for column in train.columns:\n",
    "        if train[column].dtype == 'object': \n",
    "            if p: print(column)\n",
    "            obj_types.append(column)\n",
    "    return obj_types"
   ]
  },
  {
   "cell_type": "code",
   "execution_count": 11,
   "metadata": {},
   "outputs": [
    {
     "name": "stdout",
     "output_type": "stream",
     "text": [
      "land_surface_condition\n",
      "foundation_type\n",
      "roof_type\n",
      "ground_floor_type\n",
      "other_floor_type\n",
      "position\n",
      "plan_configuration\n",
      "legal_ownership_status\n"
     ]
    }
   ],
   "source": [
    "obj_types = get_obj(train, True)"
   ]
  },
  {
   "cell_type": "code",
   "execution_count": 12,
   "metadata": {},
   "outputs": [],
   "source": [
    "def transform_to_int(train, obj_types):\n",
    "    #Assign dictionaries with current values and replacements for each column\n",
    "    d_lsc = {'n':0, 'o':1, 't':2}\n",
    "    d_ft = {'h':0, 'i':1, 'r':2, 'u':3, 'w':4}\n",
    "    d_rt = {'n':0, 'q':1, 'x':2}\n",
    "    d_gft = {'f':0, 'm':1, 'v':2, 'x':3, 'z':4}\n",
    "    d_oft = {'j':0, 'q':1, 's':2, 'x':3}\n",
    "    d_pos = {'j':0, 'o':1, 's':2, 't':3}\n",
    "    d_pc = {'a':0, 'c':1, 'd':2, 'f':3, 'm':4, 'n':5, 'o':6, 'q':7, 's':8, 'u':9}\n",
    "    d_los = {'a':0, 'r':1, 'v':2, 'w':3}\n",
    "    #Each positional index in replacements corresponds to the column in obj_types\n",
    "    replacements = [d_lsc, d_ft, d_rt, d_gft, d_oft, d_pos, d_pc, d_los]\n",
    "\n",
    "    #Replace using lambda Series.map(lambda)\n",
    "    for i,col in enumerate(obj_types):\n",
    "        train[col] = train[col].map(lambda a: replacements[i][a]).astype('int64')"
   ]
  },
  {
   "cell_type": "code",
   "execution_count": 13,
   "metadata": {},
   "outputs": [],
   "source": [
    "transform_to_int(train, obj_types)"
   ]
  },
  {
   "cell_type": "code",
   "execution_count": 14,
   "metadata": {},
   "outputs": [
    {
     "data": {
      "text/plain": [
       "int64    39\n",
       "dtype: int64"
      ]
     },
     "execution_count": 14,
     "metadata": {},
     "output_type": "execute_result"
    }
   ],
   "source": [
    "train.dtypes.value_counts()"
   ]
  },
  {
   "cell_type": "code",
   "execution_count": 15,
   "metadata": {},
   "outputs": [
    {
     "data": {
      "text/html": [
       "<div>\n",
       "<style scoped>\n",
       "    .dataframe tbody tr th:only-of-type {\n",
       "        vertical-align: middle;\n",
       "    }\n",
       "\n",
       "    .dataframe tbody tr th {\n",
       "        vertical-align: top;\n",
       "    }\n",
       "\n",
       "    .dataframe thead th {\n",
       "        text-align: right;\n",
       "    }\n",
       "</style>\n",
       "<table border=\"1\" class=\"dataframe\">\n",
       "  <thead>\n",
       "    <tr style=\"text-align: right;\">\n",
       "      <th></th>\n",
       "      <th>building_id</th>\n",
       "      <th>geo_level_1_id</th>\n",
       "      <th>geo_level_2_id</th>\n",
       "      <th>geo_level_3_id</th>\n",
       "      <th>count_floors_pre_eq</th>\n",
       "      <th>age</th>\n",
       "      <th>area_percentage</th>\n",
       "      <th>height_percentage</th>\n",
       "      <th>land_surface_condition</th>\n",
       "      <th>foundation_type</th>\n",
       "      <th>roof_type</th>\n",
       "      <th>ground_floor_type</th>\n",
       "      <th>other_floor_type</th>\n",
       "      <th>position</th>\n",
       "      <th>plan_configuration</th>\n",
       "      <th>has_superstructure_adobe_mud</th>\n",
       "      <th>has_superstructure_mud_mortar_stone</th>\n",
       "      <th>has_superstructure_stone_flag</th>\n",
       "      <th>has_superstructure_cement_mortar_stone</th>\n",
       "      <th>has_superstructure_mud_mortar_brick</th>\n",
       "      <th>has_superstructure_cement_mortar_brick</th>\n",
       "      <th>has_superstructure_timber</th>\n",
       "      <th>has_superstructure_bamboo</th>\n",
       "      <th>has_superstructure_rc_non_engineered</th>\n",
       "      <th>has_superstructure_rc_engineered</th>\n",
       "      <th>has_superstructure_other</th>\n",
       "      <th>legal_ownership_status</th>\n",
       "      <th>count_families</th>\n",
       "      <th>has_secondary_use</th>\n",
       "      <th>has_secondary_use_agriculture</th>\n",
       "      <th>has_secondary_use_hotel</th>\n",
       "      <th>has_secondary_use_rental</th>\n",
       "      <th>has_secondary_use_institution</th>\n",
       "      <th>has_secondary_use_school</th>\n",
       "      <th>has_secondary_use_industry</th>\n",
       "      <th>has_secondary_use_health_post</th>\n",
       "      <th>has_secondary_use_gov_office</th>\n",
       "      <th>has_secondary_use_use_police</th>\n",
       "      <th>has_secondary_use_other</th>\n",
       "    </tr>\n",
       "  </thead>\n",
       "  <tbody>\n",
       "    <tr>\n",
       "      <th>0</th>\n",
       "      <td>802906</td>\n",
       "      <td>6</td>\n",
       "      <td>487</td>\n",
       "      <td>12198</td>\n",
       "      <td>2</td>\n",
       "      <td>30</td>\n",
       "      <td>6</td>\n",
       "      <td>5</td>\n",
       "      <td>2</td>\n",
       "      <td>2</td>\n",
       "      <td>0</td>\n",
       "      <td>0</td>\n",
       "      <td>1</td>\n",
       "      <td>3</td>\n",
       "      <td>2</td>\n",
       "      <td>1</td>\n",
       "      <td>1</td>\n",
       "      <td>0</td>\n",
       "      <td>0</td>\n",
       "      <td>0</td>\n",
       "      <td>0</td>\n",
       "      <td>0</td>\n",
       "      <td>0</td>\n",
       "      <td>0</td>\n",
       "      <td>0</td>\n",
       "      <td>0</td>\n",
       "      <td>2</td>\n",
       "      <td>1</td>\n",
       "      <td>0</td>\n",
       "      <td>0</td>\n",
       "      <td>0</td>\n",
       "      <td>0</td>\n",
       "      <td>0</td>\n",
       "      <td>0</td>\n",
       "      <td>0</td>\n",
       "      <td>0</td>\n",
       "      <td>0</td>\n",
       "      <td>0</td>\n",
       "      <td>0</td>\n",
       "    </tr>\n",
       "    <tr>\n",
       "      <th>1</th>\n",
       "      <td>28830</td>\n",
       "      <td>8</td>\n",
       "      <td>900</td>\n",
       "      <td>2812</td>\n",
       "      <td>2</td>\n",
       "      <td>10</td>\n",
       "      <td>8</td>\n",
       "      <td>7</td>\n",
       "      <td>1</td>\n",
       "      <td>2</td>\n",
       "      <td>0</td>\n",
       "      <td>3</td>\n",
       "      <td>1</td>\n",
       "      <td>2</td>\n",
       "      <td>2</td>\n",
       "      <td>0</td>\n",
       "      <td>1</td>\n",
       "      <td>0</td>\n",
       "      <td>0</td>\n",
       "      <td>0</td>\n",
       "      <td>0</td>\n",
       "      <td>0</td>\n",
       "      <td>0</td>\n",
       "      <td>0</td>\n",
       "      <td>0</td>\n",
       "      <td>0</td>\n",
       "      <td>2</td>\n",
       "      <td>1</td>\n",
       "      <td>0</td>\n",
       "      <td>0</td>\n",
       "      <td>0</td>\n",
       "      <td>0</td>\n",
       "      <td>0</td>\n",
       "      <td>0</td>\n",
       "      <td>0</td>\n",
       "      <td>0</td>\n",
       "      <td>0</td>\n",
       "      <td>0</td>\n",
       "      <td>0</td>\n",
       "    </tr>\n",
       "    <tr>\n",
       "      <th>2</th>\n",
       "      <td>94947</td>\n",
       "      <td>21</td>\n",
       "      <td>363</td>\n",
       "      <td>8973</td>\n",
       "      <td>2</td>\n",
       "      <td>10</td>\n",
       "      <td>5</td>\n",
       "      <td>5</td>\n",
       "      <td>2</td>\n",
       "      <td>2</td>\n",
       "      <td>0</td>\n",
       "      <td>0</td>\n",
       "      <td>3</td>\n",
       "      <td>3</td>\n",
       "      <td>2</td>\n",
       "      <td>0</td>\n",
       "      <td>1</td>\n",
       "      <td>0</td>\n",
       "      <td>0</td>\n",
       "      <td>0</td>\n",
       "      <td>0</td>\n",
       "      <td>0</td>\n",
       "      <td>0</td>\n",
       "      <td>0</td>\n",
       "      <td>0</td>\n",
       "      <td>0</td>\n",
       "      <td>2</td>\n",
       "      <td>1</td>\n",
       "      <td>0</td>\n",
       "      <td>0</td>\n",
       "      <td>0</td>\n",
       "      <td>0</td>\n",
       "      <td>0</td>\n",
       "      <td>0</td>\n",
       "      <td>0</td>\n",
       "      <td>0</td>\n",
       "      <td>0</td>\n",
       "      <td>0</td>\n",
       "      <td>0</td>\n",
       "    </tr>\n",
       "    <tr>\n",
       "      <th>3</th>\n",
       "      <td>590882</td>\n",
       "      <td>22</td>\n",
       "      <td>418</td>\n",
       "      <td>10694</td>\n",
       "      <td>2</td>\n",
       "      <td>10</td>\n",
       "      <td>6</td>\n",
       "      <td>5</td>\n",
       "      <td>2</td>\n",
       "      <td>2</td>\n",
       "      <td>0</td>\n",
       "      <td>0</td>\n",
       "      <td>3</td>\n",
       "      <td>2</td>\n",
       "      <td>2</td>\n",
       "      <td>0</td>\n",
       "      <td>1</td>\n",
       "      <td>0</td>\n",
       "      <td>0</td>\n",
       "      <td>0</td>\n",
       "      <td>0</td>\n",
       "      <td>1</td>\n",
       "      <td>1</td>\n",
       "      <td>0</td>\n",
       "      <td>0</td>\n",
       "      <td>0</td>\n",
       "      <td>2</td>\n",
       "      <td>1</td>\n",
       "      <td>0</td>\n",
       "      <td>0</td>\n",
       "      <td>0</td>\n",
       "      <td>0</td>\n",
       "      <td>0</td>\n",
       "      <td>0</td>\n",
       "      <td>0</td>\n",
       "      <td>0</td>\n",
       "      <td>0</td>\n",
       "      <td>0</td>\n",
       "      <td>0</td>\n",
       "    </tr>\n",
       "    <tr>\n",
       "      <th>4</th>\n",
       "      <td>201944</td>\n",
       "      <td>11</td>\n",
       "      <td>131</td>\n",
       "      <td>1488</td>\n",
       "      <td>3</td>\n",
       "      <td>30</td>\n",
       "      <td>8</td>\n",
       "      <td>9</td>\n",
       "      <td>2</td>\n",
       "      <td>2</td>\n",
       "      <td>0</td>\n",
       "      <td>0</td>\n",
       "      <td>3</td>\n",
       "      <td>2</td>\n",
       "      <td>2</td>\n",
       "      <td>1</td>\n",
       "      <td>0</td>\n",
       "      <td>0</td>\n",
       "      <td>0</td>\n",
       "      <td>0</td>\n",
       "      <td>0</td>\n",
       "      <td>0</td>\n",
       "      <td>0</td>\n",
       "      <td>0</td>\n",
       "      <td>0</td>\n",
       "      <td>0</td>\n",
       "      <td>2</td>\n",
       "      <td>1</td>\n",
       "      <td>0</td>\n",
       "      <td>0</td>\n",
       "      <td>0</td>\n",
       "      <td>0</td>\n",
       "      <td>0</td>\n",
       "      <td>0</td>\n",
       "      <td>0</td>\n",
       "      <td>0</td>\n",
       "      <td>0</td>\n",
       "      <td>0</td>\n",
       "      <td>0</td>\n",
       "    </tr>\n",
       "  </tbody>\n",
       "</table>\n",
       "</div>"
      ],
      "text/plain": [
       "   building_id  geo_level_1_id  geo_level_2_id  geo_level_3_id  \\\n",
       "0       802906               6             487           12198   \n",
       "1        28830               8             900            2812   \n",
       "2        94947              21             363            8973   \n",
       "3       590882              22             418           10694   \n",
       "4       201944              11             131            1488   \n",
       "\n",
       "   count_floors_pre_eq  age  area_percentage  height_percentage  \\\n",
       "0                    2   30                6                  5   \n",
       "1                    2   10                8                  7   \n",
       "2                    2   10                5                  5   \n",
       "3                    2   10                6                  5   \n",
       "4                    3   30                8                  9   \n",
       "\n",
       "   land_surface_condition  foundation_type  roof_type  ground_floor_type  \\\n",
       "0                       2                2          0                  0   \n",
       "1                       1                2          0                  3   \n",
       "2                       2                2          0                  0   \n",
       "3                       2                2          0                  0   \n",
       "4                       2                2          0                  0   \n",
       "\n",
       "   other_floor_type  position  plan_configuration  \\\n",
       "0                 1         3                   2   \n",
       "1                 1         2                   2   \n",
       "2                 3         3                   2   \n",
       "3                 3         2                   2   \n",
       "4                 3         2                   2   \n",
       "\n",
       "   has_superstructure_adobe_mud  has_superstructure_mud_mortar_stone  \\\n",
       "0                             1                                    1   \n",
       "1                             0                                    1   \n",
       "2                             0                                    1   \n",
       "3                             0                                    1   \n",
       "4                             1                                    0   \n",
       "\n",
       "   has_superstructure_stone_flag  has_superstructure_cement_mortar_stone  \\\n",
       "0                              0                                       0   \n",
       "1                              0                                       0   \n",
       "2                              0                                       0   \n",
       "3                              0                                       0   \n",
       "4                              0                                       0   \n",
       "\n",
       "   has_superstructure_mud_mortar_brick  \\\n",
       "0                                    0   \n",
       "1                                    0   \n",
       "2                                    0   \n",
       "3                                    0   \n",
       "4                                    0   \n",
       "\n",
       "   has_superstructure_cement_mortar_brick  has_superstructure_timber  \\\n",
       "0                                       0                          0   \n",
       "1                                       0                          0   \n",
       "2                                       0                          0   \n",
       "3                                       0                          1   \n",
       "4                                       0                          0   \n",
       "\n",
       "   has_superstructure_bamboo  has_superstructure_rc_non_engineered  \\\n",
       "0                          0                                     0   \n",
       "1                          0                                     0   \n",
       "2                          0                                     0   \n",
       "3                          1                                     0   \n",
       "4                          0                                     0   \n",
       "\n",
       "   has_superstructure_rc_engineered  has_superstructure_other  \\\n",
       "0                                 0                         0   \n",
       "1                                 0                         0   \n",
       "2                                 0                         0   \n",
       "3                                 0                         0   \n",
       "4                                 0                         0   \n",
       "\n",
       "   legal_ownership_status  count_families  has_secondary_use  \\\n",
       "0                       2               1                  0   \n",
       "1                       2               1                  0   \n",
       "2                       2               1                  0   \n",
       "3                       2               1                  0   \n",
       "4                       2               1                  0   \n",
       "\n",
       "   has_secondary_use_agriculture  has_secondary_use_hotel  \\\n",
       "0                              0                        0   \n",
       "1                              0                        0   \n",
       "2                              0                        0   \n",
       "3                              0                        0   \n",
       "4                              0                        0   \n",
       "\n",
       "   has_secondary_use_rental  has_secondary_use_institution  \\\n",
       "0                         0                              0   \n",
       "1                         0                              0   \n",
       "2                         0                              0   \n",
       "3                         0                              0   \n",
       "4                         0                              0   \n",
       "\n",
       "   has_secondary_use_school  has_secondary_use_industry  \\\n",
       "0                         0                           0   \n",
       "1                         0                           0   \n",
       "2                         0                           0   \n",
       "3                         0                           0   \n",
       "4                         0                           0   \n",
       "\n",
       "   has_secondary_use_health_post  has_secondary_use_gov_office  \\\n",
       "0                              0                             0   \n",
       "1                              0                             0   \n",
       "2                              0                             0   \n",
       "3                              0                             0   \n",
       "4                              0                             0   \n",
       "\n",
       "   has_secondary_use_use_police  has_secondary_use_other  \n",
       "0                             0                        0  \n",
       "1                             0                        0  \n",
       "2                             0                        0  \n",
       "3                             0                        0  \n",
       "4                             0                        0  "
      ]
     },
     "execution_count": 15,
     "metadata": {},
     "output_type": "execute_result"
    }
   ],
   "source": [
    "train.head()"
   ]
  },
  {
   "cell_type": "markdown",
   "metadata": {},
   "source": [
    "***\n",
    "**Data Splitting**\n",
    "***"
   ]
  },
  {
   "cell_type": "code",
   "execution_count": 16,
   "metadata": {},
   "outputs": [],
   "source": [
    "y = labels.pop('damage_grade')  \n",
    "x = train.drop([\"building_id\"],axis=1)"
   ]
  },
  {
   "cell_type": "code",
   "execution_count": 17,
   "metadata": {},
   "outputs": [
    {
     "name": "stdout",
     "output_type": "stream",
     "text": [
      "Original dataset shape: (260601, 38)\n",
      "Original labelset shape: (260601,)\n"
     ]
    }
   ],
   "source": [
    "print('Original dataset shape:', x.shape)\n",
    "print('Original labelset shape:', y.shape)"
   ]
  },
  {
   "cell_type": "code",
   "execution_count": 18,
   "metadata": {},
   "outputs": [],
   "source": [
    "# keep the same random state for reproducibility\n",
    "RANDOM_STATE = 12\n",
    "TRAIN_TEST_SPLIT_SIZE = .1"
   ]
  },
  {
   "cell_type": "code",
   "execution_count": 19,
   "metadata": {},
   "outputs": [],
   "source": [
    "# stratify on damage_grade\n",
    "x_train, x_test, y_train, y_test = train_test_split(x, y, \n",
    "                                                    test_size = TRAIN_TEST_SPLIT_SIZE, \n",
    "                                                    stratify = y,\n",
    "                                                    random_state = RANDOM_STATE)"
   ]
  },
  {
   "cell_type": "code",
   "execution_count": 20,
   "metadata": {},
   "outputs": [
    {
     "name": "stdout",
     "output_type": "stream",
     "text": [
      "Training dataset shape: (234540, 38)\n",
      "Training labelset shape: (234540,)\n"
     ]
    }
   ],
   "source": [
    "print('Training dataset shape:', x_train.shape)\n",
    "print('Training labelset shape:', y_train.shape)"
   ]
  },
  {
   "cell_type": "code",
   "execution_count": 21,
   "metadata": {},
   "outputs": [
    {
     "name": "stdout",
     "output_type": "stream",
     "text": [
      "Test labelset shape: (26061,)\n",
      "Test dataset shape: (26061, 38)\n"
     ]
    }
   ],
   "source": [
    "print('Test labelset shape:', y_test.shape)\n",
    "print('Test dataset shape:', x_test.shape)"
   ]
  },
  {
   "cell_type": "markdown",
   "metadata": {},
   "source": [
    "Scaling is typically done to normalize data so that priority is not given to a particular feature. The role of scaling is mostly important in algorithms that are distance based and require Euclidean Distance. Random Forest is a tree-based model and hence does not require feature scaling."
   ]
  },
  {
   "cell_type": "markdown",
   "metadata": {},
   "source": [
    "***\n",
    "**Functions**\n",
    "***"
   ]
  },
  {
   "cell_type": "code",
   "execution_count": 25,
   "metadata": {},
   "outputs": [],
   "source": [
    "def check_model_and_test(x_train, y_train, x_test, y_test, classifiers):\n",
    "    for model in classifiers:\n",
    "        this_model = model.__class__.__name__ #get the name of the classifier\n",
    "        model.fit(x_train, y_train)\n",
    "        y_pred = model.predict(x_test)\n",
    "        \n",
    "        print(f'{this_model} f1 score:')\n",
    "        score = f1_score(y_test, y_pred, average='micro')\n",
    "        print(f'{score:.4f}')\n",
    "        print('\\n')"
   ]
  },
  {
   "cell_type": "markdown",
   "metadata": {},
   "source": [
    "***\n",
    "**Random Forest**\n",
    "***\n",
    "Random Forest is an ensemble bagging model. It creates a set of decision trees from randomly selected subset of training set and then aggregates the votes from different decision trees to decide the final class of the test object. In that way, random forest will get lower variance compared to decision tree because the decision tree is more sensitive to specific data and only one single decision tree is built. Moreover, random forest will get less overfit issues even when the number of trees is increased. "
   ]
  },
  {
   "cell_type": "markdown",
   "metadata": {},
   "source": [
    "Most generally, a hyperparameter is a parameter of the model that is set prior to the start of the learning process. Different models have different hyperparameters that can be set. For a Random Forest Classifier, there are several different hyperparameters that can be adjusted. For now I will concentrate on the following four parameters:\n",
    "1. **n_estimators**: The n_estimators parameter specifies the number of trees in the forest of the model. The default value for this parameter is 10, which means that 10 different decision trees will be constructed in the random forest.\n",
    "2. **max_depth**: The max_depth parameter specifies the maximum depth of each tree. The default value for max_depth is None, which means that each tree will expand until every leaf is pure. A pure leaf is one where all of the data on the leaf comes from the same class.\n",
    "3. **min_samples_split**: The min_samples_split parameter specifies the minimum number of samples required to split an internal leaf node. The default value for this parameter is 2, which means that an internal node must have at least two samples before it can be split to have a more specific classification.\n",
    "4. **min_samples_leaf**: The min_samples_leaf parameter specifies the minimum number of samples required to be at a leaf node. The default value for this parameter is 1, which means that every leaf must have at least 1 sample that it classifies.\n"
   ]
  },
  {
   "cell_type": "code",
   "execution_count": 26,
   "metadata": {},
   "outputs": [
    {
     "name": "stdout",
     "output_type": "stream",
     "text": [
      "{'n_estimators': [100, 200, 300, 400, 500, 600, 700, 800, 900, 1000], 'max_features': ['auto', 'sqrt'], 'max_depth': [10, 20, 30, 40, 50, 60, 70, 80, 90, 100, 110], 'min_samples_split': [2, 5, 10], 'min_samples_leaf': [1, 2, 4], 'bootstrap': [True, False]}\n"
     ]
    }
   ],
   "source": [
    "# Create the random grid\n",
    "random_grid = {\n",
    "               # Number of trees in random forest\n",
    "               'n_estimators': [int(x) for x in np.linspace(start = 100, stop = 1000, num = 10)],\n",
    "               # Number of features to consider at every split\n",
    "               'max_features': ['auto', 'sqrt'],\n",
    "               'max_depth': [int(x) for x in np.linspace(10, 110, num = 11)],\n",
    "               'min_samples_split': [2, 5, 10],\n",
    "               'min_samples_leaf': [1, 2, 4],\n",
    "               'bootstrap': [True, False]}\n",
    "print(random_grid)"
   ]
  },
  {
   "cell_type": "markdown",
   "metadata": {},
   "source": [
    "On each iteration, the algorithm will choose a difference combination of the features. Altogether, there are 10 * 2 * 11 * 3 * 3 * 2 settings! However, the benefit of a random search is that we are not trying every combination, but selecting at random to sample a wide range of values."
   ]
  },
  {
   "cell_type": "markdown",
   "metadata": {},
   "source": [
    "A common extension of randomized/grid search is to use it alongside cross validation, training on several different folds for each hyperparameter combination to have a more reliable estimate of each model’s performance out of sample. "
   ]
  },
  {
   "cell_type": "markdown",
   "metadata": {},
   "source": [
    "K-fold cross validation works by breaking the training data into K equal-sized “folds.” It iterates through each fold, treating that fold as holdout data, training a model on all the other K-1 folds, and evaluating the model’s performance on the one holdout fold. This results in having K different models, each with an out of sample model accuracy score on a different holdout set. The average of these K models’ out-of-sample scores is the model’s cross-validation score.\n",
    "\n",
    "Cross validation is useful because it provides a lower-variance estimate of the model’s true out of sample score than if you had only used a single train-test split.\n",
    "\n",
    "Here I will use a stratified K-fold cross validation to preserve the distribution of classes, due to the imbalance in the dataset and set the number of fold to 3, since I already have a test set. In reality it is advisable to keep a completely separate, unseen test set because during the grid search process some information about the dataset, over which we perform a grid search leaks into the hyperparameters. To get a final, unbiased performance on the new data we need to hold out a sample of a dataset which was never seen by fit classifier - ever, directly or indirectly. "
   ]
  },
  {
   "cell_type": "code",
   "execution_count": 27,
   "metadata": {},
   "outputs": [],
   "source": [
    "kf_2_cv = StratifiedKFold(n_splits = 2, random_state = RANDOM_STATE, shuffle = True)"
   ]
  },
  {
   "cell_type": "code",
   "execution_count": 28,
   "metadata": {},
   "outputs": [],
   "source": [
    "kf_5_cv = StratifiedKFold(n_splits = 5, random_state = RANDOM_STATE, shuffle = True)"
   ]
  },
  {
   "cell_type": "code",
   "execution_count": 29,
   "metadata": {},
   "outputs": [],
   "source": [
    "rf_clf = RandomForestClassifier()"
   ]
  },
  {
   "cell_type": "markdown",
   "metadata": {},
   "source": [
    "The most important arguments in RandomizedSearchCV are n_iter, which controls the number of different combinations to try, and cv which is the number of folds to use for cross validation (we use 100 and 3 respectively). More iterations will cover a wider search space and more cv folds reduces the chances of overfitting, but raising each will increase the run time. Machine learning is a field of trade-offs, and performance vs time is one of the most fundamental."
   ]
  },
  {
   "cell_type": "code",
   "execution_count": 30,
   "metadata": {},
   "outputs": [],
   "source": [
    "rf_random = RandomizedSearchCV(estimator = rf_clf, param_distributions = random_grid, n_iter = 100, cv = kf_2_cv, scoring = 'f1_micro', verbose = 5, random_state = RANDOM_STATE, n_jobs = 1)"
   ]
  },
  {
   "cell_type": "code",
   "execution_count": 31,
   "metadata": {},
   "outputs": [
    {
     "name": "stdout",
     "output_type": "stream",
     "text": [
      "Fitting 2 folds for each of 100 candidates, totalling 200 fits\n",
      "[CV 1/2] END bootstrap=False, max_depth=50, max_features=sqrt, min_samples_leaf=1, min_samples_split=2, n_estimators=100; total time= 1.1min\n",
      "[CV 2/2] END bootstrap=False, max_depth=50, max_features=sqrt, min_samples_leaf=1, min_samples_split=2, n_estimators=100; total time= 1.1min\n",
      "[CV 1/2] END bootstrap=True, max_depth=40, max_features=sqrt, min_samples_leaf=1, min_samples_split=10, n_estimators=300; total time= 1.9min\n",
      "[CV 2/2] END bootstrap=True, max_depth=40, max_features=sqrt, min_samples_leaf=1, min_samples_split=10, n_estimators=300; total time= 1.4min\n",
      "[CV 1/2] END bootstrap=False, max_depth=20, max_features=auto, min_samples_leaf=2, min_samples_split=2, n_estimators=600; total time= 2.7min\n",
      "[CV 2/2] END bootstrap=False, max_depth=20, max_features=auto, min_samples_leaf=2, min_samples_split=2, n_estimators=600; total time= 2.9min\n",
      "[CV 1/2] END bootstrap=False, max_depth=10, max_features=sqrt, min_samples_leaf=1, min_samples_split=2, n_estimators=1000; total time= 2.9min\n",
      "[CV 2/2] END bootstrap=False, max_depth=10, max_features=sqrt, min_samples_leaf=1, min_samples_split=2, n_estimators=1000; total time= 2.8min\n",
      "[CV 1/2] END bootstrap=True, max_depth=10, max_features=sqrt, min_samples_leaf=1, min_samples_split=10, n_estimators=100; total time=  13.2s\n",
      "[CV 2/2] END bootstrap=True, max_depth=10, max_features=sqrt, min_samples_leaf=1, min_samples_split=10, n_estimators=100; total time=  13.5s\n",
      "[CV 1/2] END bootstrap=True, max_depth=40, max_features=auto, min_samples_leaf=2, min_samples_split=10, n_estimators=800; total time= 3.4min\n",
      "[CV 2/2] END bootstrap=True, max_depth=40, max_features=auto, min_samples_leaf=2, min_samples_split=10, n_estimators=800; total time= 3.6min\n",
      "[CV 1/2] END bootstrap=False, max_depth=10, max_features=sqrt, min_samples_leaf=1, min_samples_split=2, n_estimators=900; total time= 2.7min\n",
      "[CV 2/2] END bootstrap=False, max_depth=10, max_features=sqrt, min_samples_leaf=1, min_samples_split=2, n_estimators=900; total time= 2.7min\n",
      "[CV 1/2] END bootstrap=False, max_depth=100, max_features=auto, min_samples_leaf=4, min_samples_split=5, n_estimators=1000; total time= 4.9min\n",
      "[CV 2/2] END bootstrap=False, max_depth=100, max_features=auto, min_samples_leaf=4, min_samples_split=5, n_estimators=1000; total time= 4.8min\n",
      "[CV 1/2] END bootstrap=True, max_depth=80, max_features=auto, min_samples_leaf=1, min_samples_split=2, n_estimators=1000; total time= 5.4min\n",
      "[CV 2/2] END bootstrap=True, max_depth=80, max_features=auto, min_samples_leaf=1, min_samples_split=2, n_estimators=1000; total time= 5.0min\n",
      "[CV 1/2] END bootstrap=True, max_depth=110, max_features=sqrt, min_samples_leaf=4, min_samples_split=2, n_estimators=500; total time= 1.9min\n",
      "[CV 2/2] END bootstrap=True, max_depth=110, max_features=sqrt, min_samples_leaf=4, min_samples_split=2, n_estimators=500; total time= 2.2min\n",
      "[CV 1/2] END bootstrap=False, max_depth=110, max_features=auto, min_samples_leaf=1, min_samples_split=10, n_estimators=900; total time= 6.3min\n",
      "[CV 2/2] END bootstrap=False, max_depth=110, max_features=auto, min_samples_leaf=1, min_samples_split=10, n_estimators=900; total time= 5.9min\n",
      "[CV 1/2] END bootstrap=True, max_depth=90, max_features=sqrt, min_samples_leaf=4, min_samples_split=2, n_estimators=700; total time= 2.9min\n",
      "[CV 2/2] END bootstrap=True, max_depth=90, max_features=sqrt, min_samples_leaf=4, min_samples_split=2, n_estimators=700; total time= 3.5min\n",
      "[CV 1/2] END bootstrap=False, max_depth=40, max_features=sqrt, min_samples_leaf=2, min_samples_split=2, n_estimators=200; total time= 1.2min\n",
      "[CV 2/2] END bootstrap=False, max_depth=40, max_features=sqrt, min_samples_leaf=2, min_samples_split=2, n_estimators=200; total time= 1.2min\n",
      "[CV 1/2] END bootstrap=True, max_depth=50, max_features=sqrt, min_samples_leaf=2, min_samples_split=2, n_estimators=400; total time= 1.8min\n",
      "[CV 2/2] END bootstrap=True, max_depth=50, max_features=sqrt, min_samples_leaf=2, min_samples_split=2, n_estimators=400; total time= 1.8min\n",
      "[CV 1/2] END bootstrap=False, max_depth=50, max_features=sqrt, min_samples_leaf=2, min_samples_split=5, n_estimators=500; total time= 2.9min\n",
      "[CV 2/2] END bootstrap=False, max_depth=50, max_features=sqrt, min_samples_leaf=2, min_samples_split=5, n_estimators=500; total time= 3.0min\n",
      "[CV 1/2] END bootstrap=True, max_depth=80, max_features=sqrt, min_samples_leaf=4, min_samples_split=10, n_estimators=800; total time= 2.6min\n",
      "[CV 2/2] END bootstrap=True, max_depth=80, max_features=sqrt, min_samples_leaf=4, min_samples_split=10, n_estimators=800; total time= 3.1min\n",
      "[CV 1/2] END bootstrap=True, max_depth=80, max_features=sqrt, min_samples_leaf=1, min_samples_split=10, n_estimators=800; total time= 3.4min\n",
      "[CV 2/2] END bootstrap=True, max_depth=80, max_features=sqrt, min_samples_leaf=1, min_samples_split=10, n_estimators=800; total time= 4.0min\n",
      "[CV 1/2] END bootstrap=False, max_depth=60, max_features=auto, min_samples_leaf=4, min_samples_split=10, n_estimators=300; total time= 1.6min\n",
      "[CV 2/2] END bootstrap=False, max_depth=60, max_features=auto, min_samples_leaf=4, min_samples_split=10, n_estimators=300; total time= 1.3min\n",
      "[CV 1/2] END bootstrap=True, max_depth=80, max_features=sqrt, min_samples_leaf=4, min_samples_split=10, n_estimators=900; total time= 2.9min\n",
      "[CV 2/2] END bootstrap=True, max_depth=80, max_features=sqrt, min_samples_leaf=4, min_samples_split=10, n_estimators=900; total time= 2.8min\n",
      "[CV 1/2] END bootstrap=False, max_depth=30, max_features=sqrt, min_samples_leaf=2, min_samples_split=2, n_estimators=400; total time= 1.9min\n",
      "[CV 2/2] END bootstrap=False, max_depth=30, max_features=sqrt, min_samples_leaf=2, min_samples_split=2, n_estimators=400; total time= 1.9min\n",
      "[CV 1/2] END bootstrap=False, max_depth=110, max_features=sqrt, min_samples_leaf=1, min_samples_split=2, n_estimators=400; total time= 2.5min\n",
      "[CV 2/2] END bootstrap=False, max_depth=110, max_features=sqrt, min_samples_leaf=1, min_samples_split=2, n_estimators=400; total time= 2.4min\n",
      "[CV 1/2] END bootstrap=True, max_depth=70, max_features=sqrt, min_samples_leaf=4, min_samples_split=10, n_estimators=300; total time=  55.6s\n",
      "[CV 2/2] END bootstrap=True, max_depth=70, max_features=sqrt, min_samples_leaf=4, min_samples_split=10, n_estimators=300; total time= 1.1min\n",
      "[CV 1/2] END bootstrap=True, max_depth=20, max_features=auto, min_samples_leaf=2, min_samples_split=5, n_estimators=700; total time= 2.7min\n",
      "[CV 2/2] END bootstrap=True, max_depth=20, max_features=auto, min_samples_leaf=2, min_samples_split=5, n_estimators=700; total time= 2.5min\n",
      "[CV 1/2] END bootstrap=False, max_depth=110, max_features=auto, min_samples_leaf=2, min_samples_split=5, n_estimators=1000; total time= 6.9min\n",
      "[CV 2/2] END bootstrap=False, max_depth=110, max_features=auto, min_samples_leaf=2, min_samples_split=5, n_estimators=1000; total time= 6.1min\n",
      "[CV 1/2] END bootstrap=True, max_depth=40, max_features=sqrt, min_samples_leaf=1, min_samples_split=5, n_estimators=400; total time= 3.0min\n",
      "[CV 2/2] END bootstrap=True, max_depth=40, max_features=sqrt, min_samples_leaf=1, min_samples_split=5, n_estimators=400; total time= 2.0min\n",
      "[CV 1/2] END bootstrap=False, max_depth=80, max_features=auto, min_samples_leaf=4, min_samples_split=2, n_estimators=500; total time= 2.7min\n",
      "[CV 2/2] END bootstrap=False, max_depth=80, max_features=auto, min_samples_leaf=4, min_samples_split=2, n_estimators=500; total time= 2.8min\n",
      "[CV 1/2] END bootstrap=False, max_depth=100, max_features=sqrt, min_samples_leaf=1, min_samples_split=2, n_estimators=700; total time= 4.9min\n",
      "[CV 2/2] END bootstrap=False, max_depth=100, max_features=sqrt, min_samples_leaf=1, min_samples_split=2, n_estimators=700; total time= 4.3min\n",
      "[CV 1/2] END bootstrap=True, max_depth=80, max_features=sqrt, min_samples_leaf=1, min_samples_split=10, n_estimators=100; total time=  22.1s\n",
      "[CV 2/2] END bootstrap=True, max_depth=80, max_features=sqrt, min_samples_leaf=1, min_samples_split=10, n_estimators=100; total time=  22.1s\n",
      "[CV 1/2] END bootstrap=True, max_depth=10, max_features=sqrt, min_samples_leaf=4, min_samples_split=10, n_estimators=500; total time=  50.1s\n",
      "[CV 2/2] END bootstrap=True, max_depth=10, max_features=sqrt, min_samples_leaf=4, min_samples_split=10, n_estimators=500; total time=  48.9s\n"
     ]
    },
    {
     "name": "stdout",
     "output_type": "stream",
     "text": [
      "[CV 1/2] END bootstrap=False, max_depth=90, max_features=sqrt, min_samples_leaf=1, min_samples_split=2, n_estimators=500; total time= 3.1min\n",
      "[CV 2/2] END bootstrap=False, max_depth=90, max_features=sqrt, min_samples_leaf=1, min_samples_split=2, n_estimators=500; total time= 3.1min\n",
      "[CV 1/2] END bootstrap=True, max_depth=100, max_features=auto, min_samples_leaf=1, min_samples_split=5, n_estimators=200; total time=  47.5s\n",
      "[CV 2/2] END bootstrap=True, max_depth=100, max_features=auto, min_samples_leaf=1, min_samples_split=5, n_estimators=200; total time=  47.4s\n",
      "[CV 1/2] END bootstrap=False, max_depth=30, max_features=sqrt, min_samples_leaf=4, min_samples_split=5, n_estimators=800; total time= 3.6min\n",
      "[CV 2/2] END bootstrap=False, max_depth=30, max_features=sqrt, min_samples_leaf=4, min_samples_split=5, n_estimators=800; total time= 3.9min\n",
      "[CV 1/2] END bootstrap=False, max_depth=60, max_features=sqrt, min_samples_leaf=2, min_samples_split=2, n_estimators=500; total time= 2.6min\n",
      "[CV 2/2] END bootstrap=False, max_depth=60, max_features=sqrt, min_samples_leaf=2, min_samples_split=2, n_estimators=500; total time= 2.6min\n",
      "[CV 1/2] END bootstrap=False, max_depth=30, max_features=sqrt, min_samples_leaf=1, min_samples_split=10, n_estimators=700; total time= 3.6min\n",
      "[CV 2/2] END bootstrap=False, max_depth=30, max_features=sqrt, min_samples_leaf=1, min_samples_split=10, n_estimators=700; total time= 3.7min\n",
      "[CV 1/2] END bootstrap=True, max_depth=60, max_features=sqrt, min_samples_leaf=1, min_samples_split=10, n_estimators=300; total time= 1.2min\n",
      "[CV 2/2] END bootstrap=True, max_depth=60, max_features=sqrt, min_samples_leaf=1, min_samples_split=10, n_estimators=300; total time= 1.2min\n",
      "[CV 1/2] END bootstrap=True, max_depth=90, max_features=auto, min_samples_leaf=2, min_samples_split=5, n_estimators=400; total time= 1.5min\n",
      "[CV 2/2] END bootstrap=True, max_depth=90, max_features=auto, min_samples_leaf=2, min_samples_split=5, n_estimators=400; total time= 1.5min\n",
      "[CV 1/2] END bootstrap=False, max_depth=20, max_features=sqrt, min_samples_leaf=2, min_samples_split=5, n_estimators=100; total time=  25.4s\n",
      "[CV 2/2] END bootstrap=False, max_depth=20, max_features=sqrt, min_samples_leaf=2, min_samples_split=5, n_estimators=100; total time=  31.1s\n",
      "[CV 1/2] END bootstrap=True, max_depth=100, max_features=auto, min_samples_leaf=1, min_samples_split=2, n_estimators=100; total time=  27.8s\n",
      "[CV 2/2] END bootstrap=True, max_depth=100, max_features=auto, min_samples_leaf=1, min_samples_split=2, n_estimators=100; total time=  27.6s\n",
      "[CV 1/2] END bootstrap=True, max_depth=40, max_features=sqrt, min_samples_leaf=1, min_samples_split=2, n_estimators=500; total time= 2.3min\n",
      "[CV 2/2] END bootstrap=True, max_depth=40, max_features=sqrt, min_samples_leaf=1, min_samples_split=2, n_estimators=500; total time= 2.6min\n",
      "[CV 1/2] END bootstrap=True, max_depth=80, max_features=sqrt, min_samples_leaf=1, min_samples_split=10, n_estimators=1000; total time= 4.6min\n",
      "[CV 2/2] END bootstrap=True, max_depth=80, max_features=sqrt, min_samples_leaf=1, min_samples_split=10, n_estimators=1000; total time= 3.6min\n",
      "[CV 1/2] END bootstrap=False, max_depth=110, max_features=auto, min_samples_leaf=2, min_samples_split=5, n_estimators=100; total time=  29.1s\n",
      "[CV 2/2] END bootstrap=False, max_depth=110, max_features=auto, min_samples_leaf=2, min_samples_split=5, n_estimators=100; total time=  38.6s\n",
      "[CV 1/2] END bootstrap=False, max_depth=10, max_features=sqrt, min_samples_leaf=2, min_samples_split=2, n_estimators=400; total time= 1.1min\n",
      "[CV 2/2] END bootstrap=False, max_depth=10, max_features=sqrt, min_samples_leaf=2, min_samples_split=2, n_estimators=400; total time= 1.2min\n",
      "[CV 1/2] END bootstrap=True, max_depth=50, max_features=sqrt, min_samples_leaf=1, min_samples_split=10, n_estimators=500; total time= 2.3min\n",
      "[CV 2/2] END bootstrap=True, max_depth=50, max_features=sqrt, min_samples_leaf=1, min_samples_split=10, n_estimators=500; total time= 2.6min\n",
      "[CV 1/2] END bootstrap=True, max_depth=20, max_features=auto, min_samples_leaf=2, min_samples_split=10, n_estimators=700; total time= 2.6min\n",
      "[CV 2/2] END bootstrap=True, max_depth=20, max_features=auto, min_samples_leaf=2, min_samples_split=10, n_estimators=700; total time= 2.3min\n",
      "[CV 1/2] END bootstrap=False, max_depth=110, max_features=auto, min_samples_leaf=2, min_samples_split=5, n_estimators=800; total time= 4.6min\n",
      "[CV 2/2] END bootstrap=False, max_depth=110, max_features=auto, min_samples_leaf=2, min_samples_split=5, n_estimators=800; total time= 4.8min\n",
      "[CV 1/2] END bootstrap=True, max_depth=100, max_features=sqrt, min_samples_leaf=1, min_samples_split=5, n_estimators=200; total time=  53.0s\n",
      "[CV 2/2] END bootstrap=True, max_depth=100, max_features=sqrt, min_samples_leaf=1, min_samples_split=5, n_estimators=200; total time=  52.1s\n",
      "[CV 1/2] END bootstrap=False, max_depth=20, max_features=auto, min_samples_leaf=4, min_samples_split=2, n_estimators=100; total time=  25.3s\n",
      "[CV 2/2] END bootstrap=False, max_depth=20, max_features=auto, min_samples_leaf=4, min_samples_split=2, n_estimators=100; total time=  25.4s\n",
      "[CV 1/2] END bootstrap=True, max_depth=30, max_features=auto, min_samples_leaf=1, min_samples_split=5, n_estimators=800; total time= 3.4min\n",
      "[CV 2/2] END bootstrap=True, max_depth=30, max_features=auto, min_samples_leaf=1, min_samples_split=5, n_estimators=800; total time= 3.4min\n",
      "[CV 1/2] END bootstrap=False, max_depth=90, max_features=sqrt, min_samples_leaf=4, min_samples_split=5, n_estimators=800; total time= 4.1min\n",
      "[CV 2/2] END bootstrap=False, max_depth=90, max_features=sqrt, min_samples_leaf=4, min_samples_split=5, n_estimators=800; total time= 4.0min\n",
      "[CV 1/2] END bootstrap=True, max_depth=70, max_features=auto, min_samples_leaf=2, min_samples_split=5, n_estimators=700; total time= 2.7min\n",
      "[CV 2/2] END bootstrap=True, max_depth=70, max_features=auto, min_samples_leaf=2, min_samples_split=5, n_estimators=700; total time= 2.8min\n",
      "[CV 1/2] END bootstrap=True, max_depth=90, max_features=auto, min_samples_leaf=2, min_samples_split=5, n_estimators=700; total time= 2.8min\n",
      "[CV 2/2] END bootstrap=True, max_depth=90, max_features=auto, min_samples_leaf=2, min_samples_split=5, n_estimators=700; total time= 2.7min\n",
      "[CV 1/2] END bootstrap=False, max_depth=60, max_features=sqrt, min_samples_leaf=4, min_samples_split=5, n_estimators=100; total time=  30.1s\n",
      "[CV 2/2] END bootstrap=False, max_depth=60, max_features=sqrt, min_samples_leaf=4, min_samples_split=5, n_estimators=100; total time=  30.0s\n",
      "[CV 1/2] END bootstrap=False, max_depth=10, max_features=sqrt, min_samples_leaf=1, min_samples_split=2, n_estimators=600; total time= 1.5min\n",
      "[CV 2/2] END bootstrap=False, max_depth=10, max_features=sqrt, min_samples_leaf=1, min_samples_split=2, n_estimators=600; total time= 1.5min\n",
      "[CV 1/2] END bootstrap=True, max_depth=10, max_features=auto, min_samples_leaf=1, min_samples_split=5, n_estimators=100; total time=  11.2s\n",
      "[CV 2/2] END bootstrap=True, max_depth=10, max_features=auto, min_samples_leaf=1, min_samples_split=5, n_estimators=100; total time=  11.7s\n",
      "[CV 1/2] END bootstrap=True, max_depth=90, max_features=auto, min_samples_leaf=4, min_samples_split=5, n_estimators=400; total time= 1.4min\n",
      "[CV 2/2] END bootstrap=True, max_depth=90, max_features=auto, min_samples_leaf=4, min_samples_split=5, n_estimators=400; total time= 1.4min\n",
      "[CV 1/2] END bootstrap=True, max_depth=30, max_features=auto, min_samples_leaf=4, min_samples_split=10, n_estimators=500; total time= 1.9min\n",
      "[CV 2/2] END bootstrap=True, max_depth=30, max_features=auto, min_samples_leaf=4, min_samples_split=10, n_estimators=500; total time= 1.7min\n",
      "[CV 1/2] END bootstrap=False, max_depth=60, max_features=sqrt, min_samples_leaf=2, min_samples_split=10, n_estimators=800; total time= 4.3min\n",
      "[CV 2/2] END bootstrap=False, max_depth=60, max_features=sqrt, min_samples_leaf=2, min_samples_split=10, n_estimators=800; total time= 4.3min\n",
      "[CV 1/2] END bootstrap=True, max_depth=110, max_features=auto, min_samples_leaf=4, min_samples_split=2, n_estimators=500; total time= 1.7min\n",
      "[CV 2/2] END bootstrap=True, max_depth=110, max_features=auto, min_samples_leaf=4, min_samples_split=2, n_estimators=500; total time= 1.8min\n",
      "[CV 1/2] END bootstrap=False, max_depth=10, max_features=auto, min_samples_leaf=4, min_samples_split=10, n_estimators=300; total time=  44.6s\n"
     ]
    },
    {
     "name": "stdout",
     "output_type": "stream",
     "text": [
      "[CV 2/2] END bootstrap=False, max_depth=10, max_features=auto, min_samples_leaf=4, min_samples_split=10, n_estimators=300; total time=  45.7s\n",
      "[CV 1/2] END bootstrap=False, max_depth=30, max_features=auto, min_samples_leaf=2, min_samples_split=10, n_estimators=600; total time= 3.1min\n",
      "[CV 2/2] END bootstrap=False, max_depth=30, max_features=auto, min_samples_leaf=2, min_samples_split=10, n_estimators=600; total time= 3.1min\n",
      "[CV 1/2] END bootstrap=False, max_depth=80, max_features=auto, min_samples_leaf=2, min_samples_split=2, n_estimators=500; total time= 2.8min\n",
      "[CV 2/2] END bootstrap=False, max_depth=80, max_features=auto, min_samples_leaf=2, min_samples_split=2, n_estimators=500; total time= 2.8min\n",
      "[CV 1/2] END bootstrap=False, max_depth=60, max_features=sqrt, min_samples_leaf=2, min_samples_split=2, n_estimators=100; total time=  34.3s\n",
      "[CV 2/2] END bootstrap=False, max_depth=60, max_features=sqrt, min_samples_leaf=2, min_samples_split=2, n_estimators=100; total time=  34.0s\n",
      "[CV 1/2] END bootstrap=False, max_depth=100, max_features=auto, min_samples_leaf=1, min_samples_split=10, n_estimators=100; total time=  35.6s\n",
      "[CV 2/2] END bootstrap=False, max_depth=100, max_features=auto, min_samples_leaf=1, min_samples_split=10, n_estimators=100; total time=  35.4s\n",
      "[CV 1/2] END bootstrap=True, max_depth=40, max_features=sqrt, min_samples_leaf=2, min_samples_split=2, n_estimators=800; total time= 3.4min\n",
      "[CV 2/2] END bootstrap=True, max_depth=40, max_features=sqrt, min_samples_leaf=2, min_samples_split=2, n_estimators=800; total time= 3.4min\n",
      "[CV 1/2] END bootstrap=True, max_depth=20, max_features=auto, min_samples_leaf=2, min_samples_split=10, n_estimators=200; total time=  38.9s\n",
      "[CV 2/2] END bootstrap=True, max_depth=20, max_features=auto, min_samples_leaf=2, min_samples_split=10, n_estimators=200; total time=  38.5s\n",
      "[CV 1/2] END bootstrap=False, max_depth=50, max_features=sqrt, min_samples_leaf=2, min_samples_split=10, n_estimators=100; total time=  32.6s\n",
      "[CV 2/2] END bootstrap=False, max_depth=50, max_features=sqrt, min_samples_leaf=2, min_samples_split=10, n_estimators=100; total time=  32.9s\n",
      "[CV 1/2] END bootstrap=True, max_depth=20, max_features=auto, min_samples_leaf=1, min_samples_split=2, n_estimators=600; total time= 2.1min\n",
      "[CV 2/2] END bootstrap=True, max_depth=20, max_features=auto, min_samples_leaf=1, min_samples_split=2, n_estimators=600; total time= 2.1min\n",
      "[CV 1/2] END bootstrap=False, max_depth=10, max_features=sqrt, min_samples_leaf=2, min_samples_split=10, n_estimators=300; total time=  45.5s\n",
      "[CV 2/2] END bootstrap=False, max_depth=10, max_features=sqrt, min_samples_leaf=2, min_samples_split=10, n_estimators=300; total time=  44.8s\n",
      "[CV 1/2] END bootstrap=True, max_depth=80, max_features=auto, min_samples_leaf=2, min_samples_split=10, n_estimators=100; total time=  23.7s\n",
      "[CV 2/2] END bootstrap=True, max_depth=80, max_features=auto, min_samples_leaf=2, min_samples_split=10, n_estimators=100; total time=  23.9s\n",
      "[CV 1/2] END bootstrap=True, max_depth=80, max_features=auto, min_samples_leaf=4, min_samples_split=2, n_estimators=200; total time=  49.3s\n",
      "[CV 2/2] END bootstrap=True, max_depth=80, max_features=auto, min_samples_leaf=4, min_samples_split=2, n_estimators=200; total time=  43.4s\n",
      "[CV 1/2] END bootstrap=True, max_depth=60, max_features=auto, min_samples_leaf=2, min_samples_split=5, n_estimators=600; total time= 2.4min\n",
      "[CV 2/2] END bootstrap=True, max_depth=60, max_features=auto, min_samples_leaf=2, min_samples_split=5, n_estimators=600; total time= 2.5min\n",
      "[CV 1/2] END bootstrap=True, max_depth=50, max_features=sqrt, min_samples_leaf=2, min_samples_split=10, n_estimators=400; total time= 1.7min\n",
      "[CV 2/2] END bootstrap=True, max_depth=50, max_features=sqrt, min_samples_leaf=2, min_samples_split=10, n_estimators=400; total time= 1.6min\n",
      "[CV 1/2] END bootstrap=True, max_depth=20, max_features=auto, min_samples_leaf=4, min_samples_split=5, n_estimators=900; total time= 3.0min\n",
      "[CV 2/2] END bootstrap=True, max_depth=20, max_features=auto, min_samples_leaf=4, min_samples_split=5, n_estimators=900; total time= 3.0min\n",
      "[CV 1/2] END bootstrap=True, max_depth=60, max_features=auto, min_samples_leaf=1, min_samples_split=5, n_estimators=700; total time= 3.3min\n",
      "[CV 2/2] END bootstrap=True, max_depth=60, max_features=auto, min_samples_leaf=1, min_samples_split=5, n_estimators=700; total time= 3.3min\n",
      "[CV 1/2] END bootstrap=True, max_depth=40, max_features=sqrt, min_samples_leaf=2, min_samples_split=5, n_estimators=600; total time= 2.5min\n",
      "[CV 2/2] END bootstrap=True, max_depth=40, max_features=sqrt, min_samples_leaf=2, min_samples_split=5, n_estimators=600; total time= 2.5min\n",
      "[CV 1/2] END bootstrap=False, max_depth=110, max_features=sqrt, min_samples_leaf=1, min_samples_split=10, n_estimators=600; total time= 3.8min\n",
      "[CV 2/2] END bootstrap=False, max_depth=110, max_features=sqrt, min_samples_leaf=1, min_samples_split=10, n_estimators=600; total time= 3.7min\n",
      "[CV 1/2] END bootstrap=False, max_depth=50, max_features=auto, min_samples_leaf=4, min_samples_split=2, n_estimators=800; total time= 4.2min\n",
      "[CV 2/2] END bootstrap=False, max_depth=50, max_features=auto, min_samples_leaf=4, min_samples_split=2, n_estimators=800; total time= 4.2min\n",
      "[CV 1/2] END bootstrap=False, max_depth=90, max_features=auto, min_samples_leaf=1, min_samples_split=10, n_estimators=200; total time= 1.2min\n",
      "[CV 2/2] END bootstrap=False, max_depth=90, max_features=auto, min_samples_leaf=1, min_samples_split=10, n_estimators=200; total time= 1.2min\n",
      "[CV 1/2] END bootstrap=True, max_depth=30, max_features=auto, min_samples_leaf=4, min_samples_split=5, n_estimators=500; total time= 1.9min\n",
      "[CV 2/2] END bootstrap=True, max_depth=30, max_features=auto, min_samples_leaf=4, min_samples_split=5, n_estimators=500; total time= 1.9min\n",
      "[CV 1/2] END bootstrap=True, max_depth=80, max_features=auto, min_samples_leaf=1, min_samples_split=10, n_estimators=700; total time= 3.1min\n",
      "[CV 2/2] END bootstrap=True, max_depth=80, max_features=auto, min_samples_leaf=1, min_samples_split=10, n_estimators=700; total time= 3.1min\n",
      "[CV 1/2] END bootstrap=True, max_depth=70, max_features=auto, min_samples_leaf=4, min_samples_split=2, n_estimators=700; total time= 2.7min\n",
      "[CV 2/2] END bootstrap=True, max_depth=70, max_features=auto, min_samples_leaf=4, min_samples_split=2, n_estimators=700; total time= 2.7min\n",
      "[CV 1/2] END bootstrap=True, max_depth=30, max_features=sqrt, min_samples_leaf=4, min_samples_split=2, n_estimators=600; total time= 2.1min\n",
      "[CV 2/2] END bootstrap=True, max_depth=30, max_features=sqrt, min_samples_leaf=4, min_samples_split=2, n_estimators=600; total time= 2.2min\n",
      "[CV 1/2] END bootstrap=False, max_depth=50, max_features=sqrt, min_samples_leaf=2, min_samples_split=2, n_estimators=700; total time= 4.0min\n",
      "[CV 2/2] END bootstrap=False, max_depth=50, max_features=sqrt, min_samples_leaf=2, min_samples_split=2, n_estimators=700; total time= 4.1min\n",
      "[CV 1/2] END bootstrap=False, max_depth=100, max_features=sqrt, min_samples_leaf=4, min_samples_split=5, n_estimators=200; total time= 1.0min\n",
      "[CV 2/2] END bootstrap=False, max_depth=100, max_features=sqrt, min_samples_leaf=4, min_samples_split=5, n_estimators=200; total time= 1.0min\n",
      "[CV 1/2] END bootstrap=True, max_depth=50, max_features=auto, min_samples_leaf=2, min_samples_split=10, n_estimators=1000; total time= 4.0min\n",
      "[CV 2/2] END bootstrap=True, max_depth=50, max_features=auto, min_samples_leaf=2, min_samples_split=10, n_estimators=1000; total time= 4.0min\n",
      "[CV 1/2] END bootstrap=True, max_depth=40, max_features=sqrt, min_samples_leaf=1, min_samples_split=2, n_estimators=400; total time= 2.0min\n",
      "[CV 2/2] END bootstrap=True, max_depth=40, max_features=sqrt, min_samples_leaf=1, min_samples_split=2, n_estimators=400; total time= 2.0min\n",
      "[CV 1/2] END bootstrap=False, max_depth=30, max_features=auto, min_samples_leaf=1, min_samples_split=2, n_estimators=900; total time= 5.5min\n",
      "[CV 2/2] END bootstrap=False, max_depth=30, max_features=auto, min_samples_leaf=1, min_samples_split=2, n_estimators=900; total time= 5.9min\n",
      "[CV 1/2] END bootstrap=False, max_depth=100, max_features=auto, min_samples_leaf=1, min_samples_split=10, n_estimators=700; total time= 4.0min\n",
      "[CV 2/2] END bootstrap=False, max_depth=100, max_features=auto, min_samples_leaf=1, min_samples_split=10, n_estimators=700; total time= 3.9min\n"
     ]
    },
    {
     "name": "stdout",
     "output_type": "stream",
     "text": [
      "[CV 1/2] END bootstrap=True, max_depth=70, max_features=sqrt, min_samples_leaf=4, min_samples_split=5, n_estimators=600; total time= 2.0min\n",
      "[CV 2/2] END bootstrap=True, max_depth=70, max_features=sqrt, min_samples_leaf=4, min_samples_split=5, n_estimators=600; total time= 2.0min\n",
      "[CV 1/2] END bootstrap=True, max_depth=60, max_features=auto, min_samples_leaf=1, min_samples_split=2, n_estimators=400; total time= 1.7min\n",
      "[CV 2/2] END bootstrap=True, max_depth=60, max_features=auto, min_samples_leaf=1, min_samples_split=2, n_estimators=400; total time= 1.7min\n",
      "[CV 1/2] END bootstrap=False, max_depth=10, max_features=sqrt, min_samples_leaf=2, min_samples_split=2, n_estimators=300; total time=  40.2s\n",
      "[CV 2/2] END bootstrap=False, max_depth=10, max_features=sqrt, min_samples_leaf=2, min_samples_split=2, n_estimators=300; total time=  39.5s\n",
      "[CV 1/2] END bootstrap=True, max_depth=20, max_features=auto, min_samples_leaf=4, min_samples_split=2, n_estimators=800; total time= 2.2min\n",
      "[CV 2/2] END bootstrap=True, max_depth=20, max_features=auto, min_samples_leaf=4, min_samples_split=2, n_estimators=800; total time= 2.3min\n",
      "[CV 1/2] END bootstrap=False, max_depth=50, max_features=auto, min_samples_leaf=4, min_samples_split=10, n_estimators=900; total time= 4.1min\n",
      "[CV 2/2] END bootstrap=False, max_depth=50, max_features=auto, min_samples_leaf=4, min_samples_split=10, n_estimators=900; total time= 4.0min\n",
      "[CV 1/2] END bootstrap=True, max_depth=110, max_features=sqrt, min_samples_leaf=2, min_samples_split=5, n_estimators=200; total time=  43.7s\n",
      "[CV 2/2] END bootstrap=True, max_depth=110, max_features=sqrt, min_samples_leaf=2, min_samples_split=5, n_estimators=200; total time=  43.2s\n",
      "[CV 1/2] END bootstrap=True, max_depth=20, max_features=sqrt, min_samples_leaf=2, min_samples_split=10, n_estimators=700; total time= 2.0min\n",
      "[CV 2/2] END bootstrap=True, max_depth=20, max_features=sqrt, min_samples_leaf=2, min_samples_split=10, n_estimators=700; total time= 2.0min\n",
      "[CV 1/2] END bootstrap=True, max_depth=50, max_features=auto, min_samples_leaf=4, min_samples_split=10, n_estimators=200; total time=  37.8s\n",
      "[CV 2/2] END bootstrap=True, max_depth=50, max_features=auto, min_samples_leaf=4, min_samples_split=10, n_estimators=200; total time=  38.6s\n",
      "[CV 1/2] END bootstrap=False, max_depth=40, max_features=auto, min_samples_leaf=1, min_samples_split=2, n_estimators=300; total time= 1.8min\n",
      "[CV 2/2] END bootstrap=False, max_depth=40, max_features=auto, min_samples_leaf=1, min_samples_split=2, n_estimators=300; total time= 1.9min\n",
      "[CV 1/2] END bootstrap=False, max_depth=20, max_features=sqrt, min_samples_leaf=4, min_samples_split=2, n_estimators=200; total time=  45.9s\n",
      "[CV 2/2] END bootstrap=False, max_depth=20, max_features=sqrt, min_samples_leaf=4, min_samples_split=2, n_estimators=200; total time=  46.4s\n",
      "[CV 1/2] END bootstrap=True, max_depth=60, max_features=sqrt, min_samples_leaf=1, min_samples_split=10, n_estimators=1000; total time= 3.7min\n",
      "[CV 2/2] END bootstrap=True, max_depth=60, max_features=sqrt, min_samples_leaf=1, min_samples_split=10, n_estimators=1000; total time= 3.7min\n",
      "[CV 1/2] END bootstrap=True, max_depth=110, max_features=auto, min_samples_leaf=4, min_samples_split=5, n_estimators=200; total time=  38.5s\n",
      "[CV 2/2] END bootstrap=True, max_depth=110, max_features=auto, min_samples_leaf=4, min_samples_split=5, n_estimators=200; total time=  38.8s\n"
     ]
    },
    {
     "data": {
      "text/plain": [
       "RandomizedSearchCV(cv=StratifiedKFold(n_splits=2, random_state=12, shuffle=True),\n",
       "                   estimator=RandomForestClassifier(), n_iter=100, n_jobs=1,\n",
       "                   param_distributions={'bootstrap': [True, False],\n",
       "                                        'max_depth': [10, 20, 30, 40, 50, 60,\n",
       "                                                      70, 80, 90, 100, 110],\n",
       "                                        'max_features': ['auto', 'sqrt'],\n",
       "                                        'min_samples_leaf': [1, 2, 4],\n",
       "                                        'min_samples_split': [2, 5, 10],\n",
       "                                        'n_estimators': [100, 200, 300, 400,\n",
       "                                                         500, 600, 700, 800,\n",
       "                                                         900, 1000]},\n",
       "                   random_state=12, scoring='f1_micro', verbose=5)"
      ]
     },
     "execution_count": 31,
     "metadata": {},
     "output_type": "execute_result"
    }
   ],
   "source": [
    "# Fit the random search model\n",
    "rf_random.fit(x_train, y_train)"
   ]
  },
  {
   "cell_type": "markdown",
   "metadata": {},
   "source": [
    "We can view the best parameters from fitting the random search:"
   ]
  },
  {
   "cell_type": "code",
   "execution_count": 32,
   "metadata": {},
   "outputs": [
    {
     "data": {
      "text/plain": [
       "0.7229598362752621"
      ]
     },
     "execution_count": 32,
     "metadata": {},
     "output_type": "execute_result"
    }
   ],
   "source": [
    "rf_random.best_score_"
   ]
  },
  {
   "cell_type": "code",
   "execution_count": 33,
   "metadata": {},
   "outputs": [
    {
     "data": {
      "text/plain": [
       "{'n_estimators': 600,\n",
       " 'min_samples_split': 10,\n",
       " 'min_samples_leaf': 1,\n",
       " 'max_features': 'sqrt',\n",
       " 'max_depth': 110,\n",
       " 'bootstrap': False}"
      ]
     },
     "execution_count": 33,
     "metadata": {},
     "output_type": "execute_result"
    }
   ],
   "source": [
    "rf_random.best_params_"
   ]
  },
  {
   "cell_type": "markdown",
   "metadata": {},
   "source": [
    "From these results, we should be able to narrow the range of values for each hyperparameter."
   ]
  },
  {
   "cell_type": "code",
   "execution_count": 34,
   "metadata": {},
   "outputs": [],
   "source": [
    "best_random = rf_random.best_estimator_"
   ]
  },
  {
   "cell_type": "markdown",
   "metadata": {},
   "source": [
    "Random search allowed us to narrow down the range for each hyperparameter. Now that we know where to concentrate our search, we can explicitly specify different combinations of settings to try (concentrated around the best parameters from the randomized search). "
   ]
  },
  {
   "cell_type": "markdown",
   "metadata": {},
   "source": [
    "We do this with GridSearchCV, a method which instead of sampling randomly from a distribution, evaluates all combinations that we define. We feed it a set of hyperparameters and the values we want to test for each hyperparameter, and then run an exhaustive search over all possible combinations of these values, training one model for each set of values. The algorithm then compares the scores of each model it trains and keeps the best one. To use Grid Search, we make another parameter grid based on the best values provided by random search."
   ]
  },
  {
   "cell_type": "code",
   "execution_count": 43,
   "metadata": {},
   "outputs": [
    {
     "name": "stdout",
     "output_type": "stream",
     "text": [
      "{'bootstrap': [True], 'max_depth': [110, 120, 130], 'max_features': ['sqrt'], 'min_samples_split': [10], 'min_samples_leaf': [1], 'n_estimators': [500, 600]}\n"
     ]
    }
   ],
   "source": [
    "# Create the parameter grid based on the results of random search \n",
    "param_grid = {\n",
    "    'bootstrap': [True],\n",
    "    'max_depth': [110, 120, 130],\n",
    "    'max_features': ['sqrt'],\n",
    "    'min_samples_split': [10],\n",
    "    'min_samples_leaf': [1],\n",
    "    'n_estimators': [500, 600]\n",
    "}\n",
    "print(param_grid)"
   ]
  },
  {
   "cell_type": "code",
   "execution_count": 44,
   "metadata": {},
   "outputs": [],
   "source": [
    "cores = multiprocessing.cpu_count() # Count the number of cores in the computer"
   ]
  },
  {
   "cell_type": "code",
   "execution_count": 47,
   "metadata": {},
   "outputs": [],
   "source": [
    "rf_cv = GridSearchCV(estimator = rf_clf, param_grid = param_grid, cv = kf_5_cv, scoring = 'f1_micro', verbose = 5, n_jobs = 1)"
   ]
  },
  {
   "cell_type": "code",
   "execution_count": 48,
   "metadata": {},
   "outputs": [
    {
     "name": "stdout",
     "output_type": "stream",
     "text": [
      "Fitting 5 folds for each of 6 candidates, totalling 30 fits\n",
      "[CV 1/5] END bootstrap=True, max_depth=110, max_features=sqrt, min_samples_leaf=1, min_samples_split=10, n_estimators=500; total time= 3.3min\n",
      "[CV 2/5] END bootstrap=True, max_depth=110, max_features=sqrt, min_samples_leaf=1, min_samples_split=10, n_estimators=500; total time= 3.2min\n",
      "[CV 3/5] END bootstrap=True, max_depth=110, max_features=sqrt, min_samples_leaf=1, min_samples_split=10, n_estimators=500; total time= 3.3min\n",
      "[CV 4/5] END bootstrap=True, max_depth=110, max_features=sqrt, min_samples_leaf=1, min_samples_split=10, n_estimators=500; total time= 3.1min\n",
      "[CV 5/5] END bootstrap=True, max_depth=110, max_features=sqrt, min_samples_leaf=1, min_samples_split=10, n_estimators=500; total time= 3.1min\n",
      "[CV 1/5] END bootstrap=True, max_depth=110, max_features=sqrt, min_samples_leaf=1, min_samples_split=10, n_estimators=600; total time= 3.8min\n",
      "[CV 2/5] END bootstrap=True, max_depth=110, max_features=sqrt, min_samples_leaf=1, min_samples_split=10, n_estimators=600; total time= 3.5min\n",
      "[CV 3/5] END bootstrap=True, max_depth=110, max_features=sqrt, min_samples_leaf=1, min_samples_split=10, n_estimators=600; total time= 3.5min\n",
      "[CV 4/5] END bootstrap=True, max_depth=110, max_features=sqrt, min_samples_leaf=1, min_samples_split=10, n_estimators=600; total time= 3.5min\n",
      "[CV 5/5] END bootstrap=True, max_depth=110, max_features=sqrt, min_samples_leaf=1, min_samples_split=10, n_estimators=600; total time= 3.5min\n",
      "[CV 1/5] END bootstrap=True, max_depth=120, max_features=sqrt, min_samples_leaf=1, min_samples_split=10, n_estimators=500; total time= 2.9min\n",
      "[CV 2/5] END bootstrap=True, max_depth=120, max_features=sqrt, min_samples_leaf=1, min_samples_split=10, n_estimators=500; total time= 2.9min\n",
      "[CV 3/5] END bootstrap=True, max_depth=120, max_features=sqrt, min_samples_leaf=1, min_samples_split=10, n_estimators=500; total time= 2.9min\n",
      "[CV 4/5] END bootstrap=True, max_depth=120, max_features=sqrt, min_samples_leaf=1, min_samples_split=10, n_estimators=500; total time= 2.9min\n",
      "[CV 5/5] END bootstrap=True, max_depth=120, max_features=sqrt, min_samples_leaf=1, min_samples_split=10, n_estimators=500; total time= 2.9min\n",
      "[CV 1/5] END bootstrap=True, max_depth=120, max_features=sqrt, min_samples_leaf=1, min_samples_split=10, n_estimators=600; total time= 3.4min\n",
      "[CV 2/5] END bootstrap=True, max_depth=120, max_features=sqrt, min_samples_leaf=1, min_samples_split=10, n_estimators=600; total time= 3.5min\n",
      "[CV 3/5] END bootstrap=True, max_depth=120, max_features=sqrt, min_samples_leaf=1, min_samples_split=10, n_estimators=600; total time= 3.5min\n",
      "[CV 4/5] END bootstrap=True, max_depth=120, max_features=sqrt, min_samples_leaf=1, min_samples_split=10, n_estimators=600; total time= 4.1min\n",
      "[CV 5/5] END bootstrap=True, max_depth=120, max_features=sqrt, min_samples_leaf=1, min_samples_split=10, n_estimators=600; total time= 3.7min\n",
      "[CV 1/5] END bootstrap=True, max_depth=130, max_features=sqrt, min_samples_leaf=1, min_samples_split=10, n_estimators=500; total time= 3.3min\n",
      "[CV 2/5] END bootstrap=True, max_depth=130, max_features=sqrt, min_samples_leaf=1, min_samples_split=10, n_estimators=500; total time= 3.1min\n",
      "[CV 3/5] END bootstrap=True, max_depth=130, max_features=sqrt, min_samples_leaf=1, min_samples_split=10, n_estimators=500; total time= 3.5min\n",
      "[CV 4/5] END bootstrap=True, max_depth=130, max_features=sqrt, min_samples_leaf=1, min_samples_split=10, n_estimators=500; total time= 3.2min\n",
      "[CV 5/5] END bootstrap=True, max_depth=130, max_features=sqrt, min_samples_leaf=1, min_samples_split=10, n_estimators=500; total time= 3.5min\n",
      "[CV 1/5] END bootstrap=True, max_depth=130, max_features=sqrt, min_samples_leaf=1, min_samples_split=10, n_estimators=600; total time= 4.3min\n",
      "[CV 2/5] END bootstrap=True, max_depth=130, max_features=sqrt, min_samples_leaf=1, min_samples_split=10, n_estimators=600; total time= 4.9min\n",
      "[CV 3/5] END bootstrap=True, max_depth=130, max_features=sqrt, min_samples_leaf=1, min_samples_split=10, n_estimators=600; total time= 3.8min\n",
      "[CV 4/5] END bootstrap=True, max_depth=130, max_features=sqrt, min_samples_leaf=1, min_samples_split=10, n_estimators=600; total time= 3.9min\n",
      "[CV 5/5] END bootstrap=True, max_depth=130, max_features=sqrt, min_samples_leaf=1, min_samples_split=10, n_estimators=600; total time= 4.6min\n"
     ]
    },
    {
     "data": {
      "text/plain": [
       "GridSearchCV(cv=StratifiedKFold(n_splits=5, random_state=12, shuffle=True),\n",
       "             estimator=RandomForestClassifier(), n_jobs=1,\n",
       "             param_grid={'bootstrap': [True], 'max_depth': [110, 120, 130],\n",
       "                         'max_features': ['sqrt'], 'min_samples_leaf': [1],\n",
       "                         'min_samples_split': [10],\n",
       "                         'n_estimators': [500, 600]},\n",
       "             scoring='f1_micro', verbose=5)"
      ]
     },
     "execution_count": 48,
     "metadata": {},
     "output_type": "execute_result"
    }
   ],
   "source": [
    "rf_cv.fit(x_train, y_train)"
   ]
  },
  {
   "cell_type": "code",
   "execution_count": 49,
   "metadata": {},
   "outputs": [
    {
     "data": {
      "text/plain": [
       "{'bootstrap': True,\n",
       " 'max_depth': 110,\n",
       " 'max_features': 'sqrt',\n",
       " 'min_samples_leaf': 1,\n",
       " 'min_samples_split': 10,\n",
       " 'n_estimators': 500}"
      ]
     },
     "execution_count": 49,
     "metadata": {},
     "output_type": "execute_result"
    }
   ],
   "source": [
    "rf_cv.best_params_ "
   ]
  },
  {
   "cell_type": "code",
   "execution_count": 50,
   "metadata": {},
   "outputs": [
    {
     "data": {
      "text/plain": [
       "0.7305235780677071"
      ]
     },
     "execution_count": 50,
     "metadata": {},
     "output_type": "execute_result"
    }
   ],
   "source": [
    "rf_cv.best_score_"
   ]
  },
  {
   "cell_type": "code",
   "execution_count": 51,
   "metadata": {},
   "outputs": [],
   "source": [
    "rf = rf_cv.best_estimator_"
   ]
  },
  {
   "cell_type": "code",
   "execution_count": 52,
   "metadata": {},
   "outputs": [],
   "source": [
    "rf.fit(x_train, y_train)\n",
    "y_pred_rf = rf.predict(x_test)"
   ]
  },
  {
   "cell_type": "code",
   "execution_count": 53,
   "metadata": {},
   "outputs": [
    {
     "name": "stdout",
     "output_type": "stream",
     "text": [
      "0.7314\n"
     ]
    }
   ],
   "source": [
    "score = f1_score(y_test, y_pred_rf, average='micro')\n",
    "print(f'{score:.4f}')"
   ]
  },
  {
   "cell_type": "code",
   "execution_count": null,
   "metadata": {},
   "outputs": [],
   "source": []
  },
  {
   "cell_type": "code",
   "execution_count": null,
   "metadata": {},
   "outputs": [],
   "source": []
  },
  {
   "cell_type": "code",
   "execution_count": 54,
   "metadata": {},
   "outputs": [
    {
     "data": {
      "text/plain": [
       "(array([0.5, 1.5, 2.5]), <a list of 3 Text major ticklabel objects>)"
      ]
     },
     "execution_count": 54,
     "metadata": {},
     "output_type": "execute_result"
    },
    {
     "data": {
      "image/png": "[encoded data removed]",
      "text/plain": [
       "<Figure size 864x720 with 2 Axes>"
      ]
     },
     "metadata": {
      "needs_background": "light"
     },
     "output_type": "display_data"
    }
   ],
   "source": [
    "df_cm_rf = pd.DataFrame(confusion_matrix(y_test, y_pred_rf), columns=np.unique(y_test), index = np.unique(y_test))\n",
    "df_cm_rf.index.name = 'Actual'\n",
    "df_cm_rf.columns.name = 'Predicted'\n",
    "\n",
    "sns.heatmap(df_cm_rf, annot=True, fmt='d', annot_kws={\"size\": 14})\n",
    "plt.title(\"Confusion Matrix for Random Forest\")\n",
    "plt.xticks(rotation=45)\n",
    "plt.yticks(rotation=360)"
   ]
  },
  {
   "cell_type": "code",
   "execution_count": 55,
   "metadata": {},
   "outputs": [
    {
     "name": "stdout",
     "output_type": "stream",
     "text": [
      "              precision    recall  f1-score   support\n",
      "\n",
      "           1       0.69      0.45      0.54      2513\n",
      "           2       0.72      0.86      0.79     14826\n",
      "           3       0.76      0.59      0.67      8722\n",
      "\n",
      "    accuracy                           0.73     26061\n",
      "   macro avg       0.72      0.63      0.67     26061\n",
      "weighted avg       0.73      0.73      0.72     26061\n",
      "\n"
     ]
    }
   ],
   "source": [
    "print(classification_report(y_test, y_pred_rf))"
   ]
  },
  {
   "cell_type": "code",
   "execution_count": 57,
   "metadata": {},
   "outputs": [
    {
     "data": {
      "text/html": [
       "<style  type=\"text/css\" >\n",
       "</style><table id=\"T_2f3ed31e_92bc_11eb_9599_7831c1ca3dd0\" style='display:inline'><caption>Top 15 Random Forest importance</caption><thead>    <tr>        <th class=\"blank level0\" ></th>        <th class=\"col_heading level0 col0\" >Features</th>        <th class=\"col_heading level0 col1\" >Importance_RF</th>    </tr></thead><tbody>\n",
       "                <tr>\n",
       "                        <th id=\"T_2f3ed31e_92bc_11eb_9599_7831c1ca3dd0level0_row0\" class=\"row_heading level0 row0\" >0</th>\n",
       "                        <td id=\"T_2f3ed31e_92bc_11eb_9599_7831c1ca3dd0row0_col0\" class=\"data row0 col0\" >geo_level_1_id</td>\n",
       "                        <td id=\"T_2f3ed31e_92bc_11eb_9599_7831c1ca3dd0row0_col1\" class=\"data row0 col1\" >0.192031</td>\n",
       "            </tr>\n",
       "            <tr>\n",
       "                        <th id=\"T_2f3ed31e_92bc_11eb_9599_7831c1ca3dd0level0_row1\" class=\"row_heading level0 row1\" >1</th>\n",
       "                        <td id=\"T_2f3ed31e_92bc_11eb_9599_7831c1ca3dd0row1_col0\" class=\"data row1 col0\" >geo_level_2_id</td>\n",
       "                        <td id=\"T_2f3ed31e_92bc_11eb_9599_7831c1ca3dd0row1_col1\" class=\"data row1 col1\" >0.142428</td>\n",
       "            </tr>\n",
       "            <tr>\n",
       "                        <th id=\"T_2f3ed31e_92bc_11eb_9599_7831c1ca3dd0level0_row2\" class=\"row_heading level0 row2\" >2</th>\n",
       "                        <td id=\"T_2f3ed31e_92bc_11eb_9599_7831c1ca3dd0row2_col0\" class=\"data row2 col0\" >geo_level_3_id</td>\n",
       "                        <td id=\"T_2f3ed31e_92bc_11eb_9599_7831c1ca3dd0row2_col1\" class=\"data row2 col1\" >0.132869</td>\n",
       "            </tr>\n",
       "            <tr>\n",
       "                        <th id=\"T_2f3ed31e_92bc_11eb_9599_7831c1ca3dd0level0_row3\" class=\"row_heading level0 row3\" >4</th>\n",
       "                        <td id=\"T_2f3ed31e_92bc_11eb_9599_7831c1ca3dd0row3_col0\" class=\"data row3 col0\" >age</td>\n",
       "                        <td id=\"T_2f3ed31e_92bc_11eb_9599_7831c1ca3dd0row3_col1\" class=\"data row3 col1\" >0.081107</td>\n",
       "            </tr>\n",
       "            <tr>\n",
       "                        <th id=\"T_2f3ed31e_92bc_11eb_9599_7831c1ca3dd0level0_row4\" class=\"row_heading level0 row4\" >5</th>\n",
       "                        <td id=\"T_2f3ed31e_92bc_11eb_9599_7831c1ca3dd0row4_col0\" class=\"data row4 col0\" >area_percentage</td>\n",
       "                        <td id=\"T_2f3ed31e_92bc_11eb_9599_7831c1ca3dd0row4_col1\" class=\"data row4 col1\" >0.076801</td>\n",
       "            </tr>\n",
       "            <tr>\n",
       "                        <th id=\"T_2f3ed31e_92bc_11eb_9599_7831c1ca3dd0level0_row5\" class=\"row_heading level0 row5\" >6</th>\n",
       "                        <td id=\"T_2f3ed31e_92bc_11eb_9599_7831c1ca3dd0row5_col0\" class=\"data row5 col0\" >height_percentage</td>\n",
       "                        <td id=\"T_2f3ed31e_92bc_11eb_9599_7831c1ca3dd0row5_col1\" class=\"data row5 col1\" >0.049411</td>\n",
       "            </tr>\n",
       "            <tr>\n",
       "                        <th id=\"T_2f3ed31e_92bc_11eb_9599_7831c1ca3dd0level0_row6\" class=\"row_heading level0 row6\" >8</th>\n",
       "                        <td id=\"T_2f3ed31e_92bc_11eb_9599_7831c1ca3dd0row6_col0\" class=\"data row6 col0\" >foundation_type</td>\n",
       "                        <td id=\"T_2f3ed31e_92bc_11eb_9599_7831c1ca3dd0row6_col1\" class=\"data row6 col1\" >0.031962</td>\n",
       "            </tr>\n",
       "            <tr>\n",
       "                        <th id=\"T_2f3ed31e_92bc_11eb_9599_7831c1ca3dd0level0_row7\" class=\"row_heading level0 row7\" >9</th>\n",
       "                        <td id=\"T_2f3ed31e_92bc_11eb_9599_7831c1ca3dd0row7_col0\" class=\"data row7 col0\" >roof_type</td>\n",
       "                        <td id=\"T_2f3ed31e_92bc_11eb_9599_7831c1ca3dd0row7_col1\" class=\"data row7 col1\" >0.028079</td>\n",
       "            </tr>\n",
       "            <tr>\n",
       "                        <th id=\"T_2f3ed31e_92bc_11eb_9599_7831c1ca3dd0level0_row8\" class=\"row_heading level0 row8\" >15</th>\n",
       "                        <td id=\"T_2f3ed31e_92bc_11eb_9599_7831c1ca3dd0row8_col0\" class=\"data row8 col0\" >has_superstructure_mud_mortar_stone</td>\n",
       "                        <td id=\"T_2f3ed31e_92bc_11eb_9599_7831c1ca3dd0row8_col1\" class=\"data row8 col1\" >0.023885</td>\n",
       "            </tr>\n",
       "            <tr>\n",
       "                        <th id=\"T_2f3ed31e_92bc_11eb_9599_7831c1ca3dd0level0_row9\" class=\"row_heading level0 row9\" >26</th>\n",
       "                        <td id=\"T_2f3ed31e_92bc_11eb_9599_7831c1ca3dd0row9_col0\" class=\"data row9 col0\" >count_families</td>\n",
       "                        <td id=\"T_2f3ed31e_92bc_11eb_9599_7831c1ca3dd0row9_col1\" class=\"data row9 col1\" >0.022943</td>\n",
       "            </tr>\n",
       "            <tr>\n",
       "                        <th id=\"T_2f3ed31e_92bc_11eb_9599_7831c1ca3dd0level0_row10\" class=\"row_heading level0 row10\" >10</th>\n",
       "                        <td id=\"T_2f3ed31e_92bc_11eb_9599_7831c1ca3dd0row10_col0\" class=\"data row10 col0\" >ground_floor_type</td>\n",
       "                        <td id=\"T_2f3ed31e_92bc_11eb_9599_7831c1ca3dd0row10_col1\" class=\"data row10 col1\" >0.021298</td>\n",
       "            </tr>\n",
       "            <tr>\n",
       "                        <th id=\"T_2f3ed31e_92bc_11eb_9599_7831c1ca3dd0level0_row11\" class=\"row_heading level0 row11\" >3</th>\n",
       "                        <td id=\"T_2f3ed31e_92bc_11eb_9599_7831c1ca3dd0row11_col0\" class=\"data row11 col0\" >count_floors_pre_eq</td>\n",
       "                        <td id=\"T_2f3ed31e_92bc_11eb_9599_7831c1ca3dd0row11_col1\" class=\"data row11 col1\" >0.020967</td>\n",
       "            </tr>\n",
       "            <tr>\n",
       "                        <th id=\"T_2f3ed31e_92bc_11eb_9599_7831c1ca3dd0level0_row12\" class=\"row_heading level0 row12\" >11</th>\n",
       "                        <td id=\"T_2f3ed31e_92bc_11eb_9599_7831c1ca3dd0row12_col0\" class=\"data row12 col0\" >other_floor_type</td>\n",
       "                        <td id=\"T_2f3ed31e_92bc_11eb_9599_7831c1ca3dd0row12_col1\" class=\"data row12 col1\" >0.019381</td>\n",
       "            </tr>\n",
       "            <tr>\n",
       "                        <th id=\"T_2f3ed31e_92bc_11eb_9599_7831c1ca3dd0level0_row13\" class=\"row_heading level0 row13\" >12</th>\n",
       "                        <td id=\"T_2f3ed31e_92bc_11eb_9599_7831c1ca3dd0row13_col0\" class=\"data row13 col0\" >position</td>\n",
       "                        <td id=\"T_2f3ed31e_92bc_11eb_9599_7831c1ca3dd0row13_col1\" class=\"data row13 col1\" >0.018831</td>\n",
       "            </tr>\n",
       "            <tr>\n",
       "                        <th id=\"T_2f3ed31e_92bc_11eb_9599_7831c1ca3dd0level0_row14\" class=\"row_heading level0 row14\" >7</th>\n",
       "                        <td id=\"T_2f3ed31e_92bc_11eb_9599_7831c1ca3dd0row14_col0\" class=\"data row14 col0\" >land_surface_condition</td>\n",
       "                        <td id=\"T_2f3ed31e_92bc_11eb_9599_7831c1ca3dd0row14_col1\" class=\"data row14 col1\" >0.018059</td>\n",
       "            </tr>\n",
       "    </tbody></table>"
      ]
     },
     "metadata": {},
     "output_type": "display_data"
    }
   ],
   "source": [
    "importance_rf = pd.DataFrame({\"Features\":x.columns, \"Importance_RF\":rf.feature_importances_}).sort_values(by='Importance_RF', ascending = False).head(15)\n",
    "\n",
    "rf_styler = importance_rf.style.set_table_attributes(\"style='display:inline'\").set_caption('Top 15 Random Forest importance')\n",
    "\n",
    "from IPython.display import display_html \n",
    "display_html(rf_styler._repr_html_(), raw=True)"
   ]
  },
  {
   "cell_type": "markdown",
   "metadata": {},
   "source": [
    "Machine learning still suffers from a black box problem, and one image is not going to solve the issue! Nonetheless, looking at an individual decision tree shows us this model (and a random forest) is not an unexplainable method, but a sequence of logical questions and answers — much as we would form when making predictions. "
   ]
  },
  {
   "cell_type": "code",
   "execution_count": null,
   "metadata": {},
   "outputs": [],
   "source": []
  },
  {
   "cell_type": "code",
   "execution_count": null,
   "metadata": {},
   "outputs": [],
   "source": []
  },
  {
   "cell_type": "code",
   "execution_count": 58,
   "metadata": {},
   "outputs": [
    {
     "data": {
      "text/plain": [
       "['./rf.joblib']"
      ]
     },
     "execution_count": 58,
     "metadata": {},
     "output_type": "execute_result"
    }
   ],
   "source": [
    "import joblib\n",
    "# save\n",
    "joblib.dump(rf, \"./rf.joblib\")"
   ]
  },
  {
   "cell_type": "code",
   "execution_count": 59,
   "metadata": {},
   "outputs": [],
   "source": [
    "# load, no need to initialize the loaded model\n",
    "loaded_rf = joblib.load(\"./rf.joblib\")"
   ]
  },
  {
   "cell_type": "code",
   "execution_count": null,
   "metadata": {},
   "outputs": [],
   "source": []
  },
  {
   "cell_type": "code",
   "execution_count": 60,
   "metadata": {},
   "outputs": [],
   "source": [
    "transform_to_int(test, obj_types)"
   ]
  },
  {
   "cell_type": "code",
   "execution_count": 61,
   "metadata": {},
   "outputs": [],
   "source": [
    "test = test.drop([\"building_id\"],axis=1)"
   ]
  },
  {
   "cell_type": "code",
   "execution_count": 62,
   "metadata": {},
   "outputs": [],
   "source": [
    "predictions = rf.predict(test)"
   ]
  },
  {
   "cell_type": "code",
   "execution_count": 63,
   "metadata": {},
   "outputs": [],
   "source": [
    "submission_format = pd.read_csv('Richters_Predictor_Modeling_Earthquake_Damage_-_Submission_Format.csv', index_col='building_id')"
   ]
  },
  {
   "cell_type": "code",
   "execution_count": 64,
   "metadata": {},
   "outputs": [],
   "source": [
    "my_submission = pd.DataFrame(data = predictions,\n",
    "                             columns = submission_format.columns,\n",
    "                             index = submission_format.index)"
   ]
  },
  {
   "cell_type": "code",
   "execution_count": 65,
   "metadata": {},
   "outputs": [
    {
     "data": {
      "text/html": [
       "<div>\n",
       "<style scoped>\n",
       "    .dataframe tbody tr th:only-of-type {\n",
       "        vertical-align: middle;\n",
       "    }\n",
       "\n",
       "    .dataframe tbody tr th {\n",
       "        vertical-align: top;\n",
       "    }\n",
       "\n",
       "    .dataframe thead th {\n",
       "        text-align: right;\n",
       "    }\n",
       "</style>\n",
       "<table border=\"1\" class=\"dataframe\">\n",
       "  <thead>\n",
       "    <tr style=\"text-align: right;\">\n",
       "      <th></th>\n",
       "      <th>damage_grade</th>\n",
       "    </tr>\n",
       "    <tr>\n",
       "      <th>building_id</th>\n",
       "      <th></th>\n",
       "    </tr>\n",
       "  </thead>\n",
       "  <tbody>\n",
       "    <tr>\n",
       "      <th>300051</th>\n",
       "      <td>3</td>\n",
       "    </tr>\n",
       "    <tr>\n",
       "      <th>99355</th>\n",
       "      <td>2</td>\n",
       "    </tr>\n",
       "    <tr>\n",
       "      <th>890251</th>\n",
       "      <td>2</td>\n",
       "    </tr>\n",
       "    <tr>\n",
       "      <th>745817</th>\n",
       "      <td>1</td>\n",
       "    </tr>\n",
       "    <tr>\n",
       "      <th>421793</th>\n",
       "      <td>3</td>\n",
       "    </tr>\n",
       "  </tbody>\n",
       "</table>\n",
       "</div>"
      ],
      "text/plain": [
       "             damage_grade\n",
       "building_id              \n",
       "300051                  3\n",
       "99355                   2\n",
       "890251                  2\n",
       "745817                  1\n",
       "421793                  3"
      ]
     },
     "execution_count": 65,
     "metadata": {},
     "output_type": "execute_result"
    }
   ],
   "source": [
    "my_submission.head()"
   ]
  },
  {
   "cell_type": "code",
   "execution_count": 66,
   "metadata": {},
   "outputs": [],
   "source": [
    "my_submission.to_csv('submission.csv')"
   ]
  },
  {
   "cell_type": "code",
   "execution_count": 67,
   "metadata": {},
   "outputs": [
    {
     "name": "stdout",
     "output_type": "stream",
     "text": [
      "building_id,damage_grade\r\n",
      "300051,3\r\n",
      "99355,2\r\n",
      "890251,2\r\n",
      "745817,1\r\n",
      "421793,3\r\n",
      "871976,2\r\n",
      "691228,1\r\n",
      "896100,3\r\n",
      "343471,2\r\n"
     ]
    }
   ],
   "source": [
    "!head submission.csv"
   ]
  },
  {
   "cell_type": "code",
   "execution_count": null,
   "metadata": {},
   "outputs": [],
   "source": []
  }
 ],
 "metadata": {
  "kernelspec": {
   "display_name": "Python 3",
   "language": "python",
   "name": "python3"
  },
  "language_info": {
   "codemirror_mode": {
    "name": "ipython",
    "version": 3
   },
   "file_extension": ".py",
   "mimetype": "text/x-python",
   "name": "python",
   "nbconvert_exporter": "python",
   "pygments_lexer": "ipython3",
   "version": "3.8.3"
  }
 },
 "nbformat": 4,
 "nbformat_minor": 4
}
