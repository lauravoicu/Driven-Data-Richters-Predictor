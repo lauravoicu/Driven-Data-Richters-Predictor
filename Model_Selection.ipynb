{
 "cells": [
  {
   "cell_type": "markdown",
   "metadata": {},
   "source": [
    "# Richter's Predictor: Modeling Earthquake Damage\n",
    "\n",
    "Based on aspects of building location and construction, the goal is to predict the level of damage to buildings caused by the 2015 Gorkha earthquake in Nepal.\n",
    "\n",
    "The data was collected through surveys by [Kathmandu Living Labs](http://www.kathmandulivinglabs.org) and the [Central Bureau of Statistics](https://cbs.gov.np), which works under the National Planning Commission Secretariat of Nepal. This survey is **one of the largest post-disaster datasets ever collected**, containing valuable information on earthquake impacts, household conditions, and socio-economic-demographic statistics."
   ]
  },
  {
   "cell_type": "markdown",
   "metadata": {},
   "source": [
    "***\n",
    "## Description of Features\n",
    "***\n",
    "\n",
    "The dataset mainly consists of information on the buildings' structure and their legal ownership. Each row in the dataset represents a specific building in the region that was hit by Gorkha earthquake.\n",
    "\n",
    "There are 39 columns in this dataset, where the `building_id` column is a unique and random identifier. The remaining 38 features are described in the section below. Categorical variables have been obfuscated random lowercase ascii characters. The appearance of the same character in distinct columns does not imply the same original value.\n",
    "\n",
    "**Description**\n",
    "\n",
    "- `geo_level_1_id`, `geo_level_2_id`, `geo_level_3_id` (type: int): geographic region in which building exists, from largest (level 1) to most specific sub-region (level 3). Possible values: level 1: 0-30, level 2: 0-1427, level 3: 0-12567.\n",
    "- `count_floors_pre_eq` (type: int): number of floors in the building before the earthquake.\n",
    "- `age` (type: int): age of the building in years.\n",
    "- `area_percentage` (type: int): normalized area of the building footprint.\n",
    "- `height_percentage` (type: int): normalized height of the building footprint.\n",
    "- `land_surface_condition` (type: categorical): surface condition of the land where the building was built. Possible values: n, o, t.\n",
    "- `foundation_type` (type: categorical): type of foundation used while building. Possible values: h, i, r, u, w.\n",
    "- `roof_type` (type: categorical): type of roof used while building. Possible values: n, q, x.\n",
    "- `ground_floor_type` (type: categorical): type of the ground floor. Possible values: f, m, v, x, z.\n",
    "- `other_floor_type` (type: categorical): type of constructions used in higher than the ground floors (except of roof). Possible values: j, q, s, x.\n",
    "- `position` (type: categorical): position of the building. Possible values: j, o, s, t.\n",
    "- `plan_configuration` (type: categorical): building plan configuration. Possible values: a, c, d, f, m, n, o, q, s, u.\n",
    "- `has_superstructure_adobe_mud` (type: binary): flag variable that indicates if the superstructure was made of Adobe/Mud.\n",
    "- `has_superstructure_mud_mortar_stone` (type: binary): flag variable that indicates if the superstructure was made of Mud Mortar - Stone.\n",
    "- `has_superstructure_stone_flag` (type: binary): flag variable that indicates if the superstructure was made of Stone.\n",
    "- `has_superstructure_cement_mortar_stone` (type: binary): flag variable that indicates if the superstructure was made of Cement Mortar - Stone.\n",
    "- `has_superstructure_mud_mortar_brick` (type: binary): flag variable that indicates if the superstructure was made of Mud Mortar - Brick.\n",
    "- `has_superstructure_cement_mortar_brick` (type: binary): flag variable that indicates if the superstructure was made of Cement Mortar - Brick.\n",
    "- `has_superstructure_timber` (type: binary): flag variable that indicates if the superstructure was made of Timber.\n",
    "- `has_superstructure_bamboo` (type: binary): flag variable that indicates if the superstructure was made of Bamboo.\n",
    "- `has_superstructure_rc_non_engineered` (type: binary): flag variable that indicates if the superstructure was made of non-engineered reinforced concrete.\n",
    "- `has_superstructure_rc_engineered` (type: binary): flag variable that indicates if the superstructure was made of engineered reinforced concrete.\n",
    "- `has_superstructure_other` (type: binary): flag variable that indicates if the superstructure was made of any other material.\n",
    "- `legal_ownership_status` (type: categorical): legal ownership status of the land where building was built. Possible values: a, r, v, w.\n",
    "- `count_families` (type: int): number of families that live in the building.\n",
    "- `has_secondary_use` (type: binary): flag variable that indicates if the building was used for any secondary purpose.\n",
    "- `has_secondary_use_agriculture` (type: binary): flag variable that indicates if the building was used for agricultural purposes.\n",
    "- `has_secondary_use_hotel` (type: binary): flag variable that indicates if the building was used as a hotel.\n",
    "- `has_secondary_use_rental` (type: binary): flag variable that indicates if the building was used for rental purposes.\n",
    "- `has_secondary_use_institution` (type: binary): flag variable that indicates if the building was used as a location of any institution.\n",
    "- `has_secondary_use_school` (type: binary): flag variable that indicates if the building was used as a school.\n",
    "- `has_secondary_use_industry` (type: binary): flag variable that indicates if the building was used for industrial purposes.\n",
    "- `has_secondary_use_health_post` (type: binary): flag variable that indicates if the building was used as a health post.\n",
    "- `has_secondary_use_gov_office` (type: binary): flag variable that indicates if the building was used fas a government office.\n",
    "- `has_secondary_use_use_police` (type: binary): flag variable that indicates if the building was used as a police station.\n",
    "- `has_secondary_use_other` (type: binary): flag variable that indicates if the building was secondarily used for other purposes.\n",
    "\n",
    "\n",
    "\n",
    "Features have information on aspects of structure's location and construction. For instance, three distinct `geo_level_id`'s (1,2, and 3 respectively) represent the district, municipality/VDC and ward location of the surveyed structure. `foundation_type`, `roof_type`, `has_superstructure_mud`, and many others like these give us information on different aspects of the building's construction. Some features are continuous, for example age, height percentage, etc., but most are categorical. Among the categorical ones, most are dummies, some have a few categories encoded with strings, and a few like `geo_level_2_id` and `geo_level_3_id` have way too many categories (more than 100) inside them. These different cases need to be handled accordingly.\n",
    "\n",
    "In some of the categorical varaibles, it is not clear what the encoded characters representing different levels of the categorical variable really mean in the physical context of the structure. We were able to find the original dataset from which the data for this competition has most likely been subsampled. From that, we have gotten some more information on what different levels in each category could possiblly mean; however, we have not yet fully worked out what the character-encoded levels in some of our categorical variables exactly mean in the physical context."
   ]
  },
  {
   "cell_type": "markdown",
   "metadata": {},
   "source": [
    "***\n",
    "## Description of Labels\n",
    "***\n",
    "\n",
    "We're trying to predict the ordinal variable `damage_grade`, which represents a level of damage to the building that was hit by the earthquake. There are 3 grades of the damage:\n",
    "\n",
    "- `1` represents low damage\n",
    "- `2` represents a medium amount of damage\n",
    "- `3` represents almost complete destruction"
   ]
  },
  {
   "cell_type": "markdown",
   "metadata": {},
   "source": [
    "***\n",
    "## Performance Metric\n",
    "***\n",
    "\n",
    "We are predicting the level of damage from 1 to 3. The level of damage is an ordinal variable meaning that ordering is important. This can be viewed as a classification or an ordinal regression problem. (Ordinal regression is sometimes described as an problem somewhere in between classification and regression.)\n",
    "\n",
    "To measure the performance of our algorithms, we'll use the F1 score which balances the precision and recall of a classifier. Traditionally, the F1 score is used to evaluate performance on a binary classifier, but since we have three possible labels we will use a variant called the micro averaged F1 score."
   ]
  },
  {
   "cell_type": "markdown",
   "metadata": {},
   "source": [
    "$$F_{micro} = \\frac{2 \\cdot P_{micro} \\cdot R_{micro}}{P_{micro} + R_{micro}}$$"
   ]
  },
  {
   "cell_type": "markdown",
   "metadata": {},
   "source": [
    "where"
   ]
  },
  {
   "cell_type": "markdown",
   "metadata": {},
   "source": [
    "$$P_{micro} = \\frac{\\sum_{k=1}^{3}TP_{k}}{\\sum_{k=1}^{3}(TP_{k} + FP_{k})},~~R_{micro} = \\frac{\\sum_{k=1}^{3}TP_{k}}{\\sum_{k=1}^{3}(TP_{k} + FN_{k})}$$"
   ]
  },
  {
   "cell_type": "markdown",
   "metadata": {},
   "source": [
    "and *TP* is True Positive, *FP* is False Positive, *FN* is False Negative, and *k* represents each class in 1,2,3.\n",
    "\n",
    "In Python, we can easily calculate this loss using `sklearn.metrics.f1_score` with the keyword argument `average='micro'`. Here are some references that discuss the micro-averaged F1 score further:\n",
    "\n",
    "- [Scikit-Learn Documentation](https://scikit-learn.org/stable/modules/generated/sklearn.metrics.f1_score.html)\n",
    "- [Blog Post](http://rushdishams.blogspot.com/2011/08/micro-and-macro-average-of-precision.html)"
   ]
  },
  {
   "cell_type": "code",
   "execution_count": 1,
   "metadata": {},
   "outputs": [],
   "source": [
    "import pandas as pd\n",
    "import numpy as np\n",
    "import os\n",
    "import re\n",
    "\n",
    "import string \n",
    "import seaborn as sns \n",
    "import matplotlib as mpl\n",
    "import matplotlib.pyplot as plt"
   ]
  },
  {
   "cell_type": "code",
   "execution_count": 2,
   "metadata": {},
   "outputs": [],
   "source": [
    "# ! pip install imbalanced-learn\n",
    "import imblearn\n",
    "# print(imblearn.__version__)\n",
    "from imblearn.over_sampling import SMOTE"
   ]
  },
  {
   "cell_type": "code",
   "execution_count": 3,
   "metadata": {},
   "outputs": [],
   "source": [
    "import sklearn\n",
    "\n",
    "from sklearn.model_selection import GridSearchCV, train_test_split\n",
    "\n",
    "from sklearn.pipeline import Pipeline\n",
    "\n",
    "from sklearn import metrics\n",
    "from sklearn.metrics import classification_report, f1_score, roc_auc_score, roc_curve, confusion_matrix\n",
    "\n",
    "from sklearn.neighbors import KNeighborsClassifier\n",
    "from sklearn.tree import DecisionTreeClassifier\n",
    "from sklearn.ensemble import RandomForestClassifier, AdaBoostClassifier, GradientBoostingClassifier\n",
    "\n",
    "import xgboost as xgb"
   ]
  },
  {
   "cell_type": "code",
   "execution_count": 4,
   "metadata": {},
   "outputs": [],
   "source": [
    "pd.set_option('display.max_rows', None)\n",
    "pd.set_option('display.max_columns', None)\n",
    "pd.set_option('display.width', None)\n",
    "pd.set_option('display.max_colwidth', None)"
   ]
  },
  {
   "cell_type": "code",
   "execution_count": 5,
   "metadata": {},
   "outputs": [],
   "source": [
    "# Load data set\n",
    "train = pd.read_csv(os.path.join('', 'Richters_Predictor_Modeling_Earthquake_Damage_-_Train_Values.csv'))"
   ]
  },
  {
   "cell_type": "code",
   "execution_count": 6,
   "metadata": {},
   "outputs": [],
   "source": [
    "test = pd.read_csv(os.path.join('', 'Richters_Predictor_Modeling_Earthquake_Damage_-_Test_Values.csv'))"
   ]
  },
  {
   "cell_type": "code",
   "execution_count": 7,
   "metadata": {},
   "outputs": [],
   "source": [
    "labels = pd.read_csv(os.path.join('', 'Richters_Predictor_Modeling_Earthquake_Damage_-_Train_Labels.csv'))"
   ]
  },
  {
   "cell_type": "code",
   "execution_count": 8,
   "metadata": {},
   "outputs": [
    {
     "data": {
      "text/plain": [
       "2    0.568912\n",
       "3    0.334680\n",
       "1    0.096408\n",
       "Name: damage_grade, dtype: float64"
      ]
     },
     "execution_count": 8,
     "metadata": {},
     "output_type": "execute_result"
    }
   ],
   "source": [
    "labels.damage_grade.value_counts()/len(labels.damage_grade)"
   ]
  },
  {
   "cell_type": "markdown",
   "metadata": {},
   "source": [
    "**Remarks:**\n",
    "\n",
    "- According to these results, we can say that there are 56.89% of the building suffered a medium amount of damage, 33.46% of the building were almost completely distructed and 9.64% of the building suffered a low damage.\n",
    "\n",
    "- Class \"low damage\" is imbalanced, and might need upsampling. Another option to deal with the imbalance is to choose an appropriate metric, like F1 score or AUC."
   ]
  },
  {
   "cell_type": "code",
   "execution_count": 9,
   "metadata": {},
   "outputs": [
    {
     "data": {
      "text/plain": [
       "int64     31\n",
       "object     8\n",
       "dtype: int64"
      ]
     },
     "execution_count": 9,
     "metadata": {},
     "output_type": "execute_result"
    }
   ],
   "source": [
    "train.dtypes.value_counts()"
   ]
  },
  {
   "cell_type": "code",
   "execution_count": 10,
   "metadata": {},
   "outputs": [
    {
     "name": "stdout",
     "output_type": "stream",
     "text": [
      "Object data types:\n",
      "\n"
     ]
    }
   ],
   "source": [
    "print('Object data types:\\n')\n",
    "#we'll use the function later, without wanting to print anything\n",
    "def get_obj(train, p = False):\n",
    "    obj_types = []\n",
    "    for column in train.columns:\n",
    "        if train[column].dtype == 'object': \n",
    "            if p: print(column)\n",
    "            obj_types.append(column)\n",
    "    return obj_types"
   ]
  },
  {
   "cell_type": "code",
   "execution_count": 11,
   "metadata": {},
   "outputs": [
    {
     "name": "stdout",
     "output_type": "stream",
     "text": [
      "land_surface_condition\n",
      "foundation_type\n",
      "roof_type\n",
      "ground_floor_type\n",
      "other_floor_type\n",
      "position\n",
      "plan_configuration\n",
      "legal_ownership_status\n"
     ]
    }
   ],
   "source": [
    "obj_types = get_obj(train, True)"
   ]
  },
  {
   "cell_type": "code",
   "execution_count": 12,
   "metadata": {},
   "outputs": [],
   "source": [
    "def transform_to_int(train, obj_types):\n",
    "    #Assign dictionaries with current values and replacements for each column\n",
    "    d_lsc = {'n':0, 'o':1, 't':2}\n",
    "    d_ft = {'h':0, 'i':1, 'r':2, 'u':3, 'w':4}\n",
    "    d_rt = {'n':0, 'q':1, 'x':2}\n",
    "    d_gft = {'f':0, 'm':1, 'v':2, 'x':3, 'z':4}\n",
    "    d_oft = {'j':0, 'q':1, 's':2, 'x':3}\n",
    "    d_pos = {'j':0, 'o':1, 's':2, 't':3}\n",
    "    d_pc = {'a':0, 'c':1, 'd':2, 'f':3, 'm':4, 'n':5, 'o':6, 'q':7, 's':8, 'u':9}\n",
    "    d_los = {'a':0, 'r':1, 'v':2, 'w':3}\n",
    "    #Each positional index in replacements corresponds to the column in obj_types\n",
    "    replacements = [d_lsc, d_ft, d_rt, d_gft, d_oft, d_pos, d_pc, d_los]\n",
    "\n",
    "    #Replace using lambda Series.map(lambda)\n",
    "    for i,col in enumerate(obj_types):\n",
    "        train[col] = train[col].map(lambda a: replacements[i][a]).astype('int64')"
   ]
  },
  {
   "cell_type": "code",
   "execution_count": 13,
   "metadata": {},
   "outputs": [],
   "source": [
    "transform_to_int(train, obj_types)"
   ]
  },
  {
   "cell_type": "code",
   "execution_count": 14,
   "metadata": {},
   "outputs": [
    {
     "data": {
      "text/plain": [
       "int64    39\n",
       "dtype: int64"
      ]
     },
     "execution_count": 14,
     "metadata": {},
     "output_type": "execute_result"
    }
   ],
   "source": [
    "train.dtypes.value_counts()"
   ]
  },
  {
   "cell_type": "code",
   "execution_count": 15,
   "metadata": {},
   "outputs": [
    {
     "data": {
      "text/html": [
       "<div>\n",
       "<style scoped>\n",
       "    .dataframe tbody tr th:only-of-type {\n",
       "        vertical-align: middle;\n",
       "    }\n",
       "\n",
       "    .dataframe tbody tr th {\n",
       "        vertical-align: top;\n",
       "    }\n",
       "\n",
       "    .dataframe thead th {\n",
       "        text-align: right;\n",
       "    }\n",
       "</style>\n",
       "<table border=\"1\" class=\"dataframe\">\n",
       "  <thead>\n",
       "    <tr style=\"text-align: right;\">\n",
       "      <th></th>\n",
       "      <th>building_id</th>\n",
       "      <th>geo_level_1_id</th>\n",
       "      <th>geo_level_2_id</th>\n",
       "      <th>geo_level_3_id</th>\n",
       "      <th>count_floors_pre_eq</th>\n",
       "      <th>age</th>\n",
       "      <th>area_percentage</th>\n",
       "      <th>height_percentage</th>\n",
       "      <th>land_surface_condition</th>\n",
       "      <th>foundation_type</th>\n",
       "      <th>roof_type</th>\n",
       "      <th>ground_floor_type</th>\n",
       "      <th>other_floor_type</th>\n",
       "      <th>position</th>\n",
       "      <th>plan_configuration</th>\n",
       "      <th>has_superstructure_adobe_mud</th>\n",
       "      <th>has_superstructure_mud_mortar_stone</th>\n",
       "      <th>has_superstructure_stone_flag</th>\n",
       "      <th>has_superstructure_cement_mortar_stone</th>\n",
       "      <th>has_superstructure_mud_mortar_brick</th>\n",
       "      <th>has_superstructure_cement_mortar_brick</th>\n",
       "      <th>has_superstructure_timber</th>\n",
       "      <th>has_superstructure_bamboo</th>\n",
       "      <th>has_superstructure_rc_non_engineered</th>\n",
       "      <th>has_superstructure_rc_engineered</th>\n",
       "      <th>has_superstructure_other</th>\n",
       "      <th>legal_ownership_status</th>\n",
       "      <th>count_families</th>\n",
       "      <th>has_secondary_use</th>\n",
       "      <th>has_secondary_use_agriculture</th>\n",
       "      <th>has_secondary_use_hotel</th>\n",
       "      <th>has_secondary_use_rental</th>\n",
       "      <th>has_secondary_use_institution</th>\n",
       "      <th>has_secondary_use_school</th>\n",
       "      <th>has_secondary_use_industry</th>\n",
       "      <th>has_secondary_use_health_post</th>\n",
       "      <th>has_secondary_use_gov_office</th>\n",
       "      <th>has_secondary_use_use_police</th>\n",
       "      <th>has_secondary_use_other</th>\n",
       "    </tr>\n",
       "  </thead>\n",
       "  <tbody>\n",
       "    <tr>\n",
       "      <th>0</th>\n",
       "      <td>802906</td>\n",
       "      <td>6</td>\n",
       "      <td>487</td>\n",
       "      <td>12198</td>\n",
       "      <td>2</td>\n",
       "      <td>30</td>\n",
       "      <td>6</td>\n",
       "      <td>5</td>\n",
       "      <td>2</td>\n",
       "      <td>2</td>\n",
       "      <td>0</td>\n",
       "      <td>0</td>\n",
       "      <td>1</td>\n",
       "      <td>3</td>\n",
       "      <td>2</td>\n",
       "      <td>1</td>\n",
       "      <td>1</td>\n",
       "      <td>0</td>\n",
       "      <td>0</td>\n",
       "      <td>0</td>\n",
       "      <td>0</td>\n",
       "      <td>0</td>\n",
       "      <td>0</td>\n",
       "      <td>0</td>\n",
       "      <td>0</td>\n",
       "      <td>0</td>\n",
       "      <td>2</td>\n",
       "      <td>1</td>\n",
       "      <td>0</td>\n",
       "      <td>0</td>\n",
       "      <td>0</td>\n",
       "      <td>0</td>\n",
       "      <td>0</td>\n",
       "      <td>0</td>\n",
       "      <td>0</td>\n",
       "      <td>0</td>\n",
       "      <td>0</td>\n",
       "      <td>0</td>\n",
       "      <td>0</td>\n",
       "    </tr>\n",
       "    <tr>\n",
       "      <th>1</th>\n",
       "      <td>28830</td>\n",
       "      <td>8</td>\n",
       "      <td>900</td>\n",
       "      <td>2812</td>\n",
       "      <td>2</td>\n",
       "      <td>10</td>\n",
       "      <td>8</td>\n",
       "      <td>7</td>\n",
       "      <td>1</td>\n",
       "      <td>2</td>\n",
       "      <td>0</td>\n",
       "      <td>3</td>\n",
       "      <td>1</td>\n",
       "      <td>2</td>\n",
       "      <td>2</td>\n",
       "      <td>0</td>\n",
       "      <td>1</td>\n",
       "      <td>0</td>\n",
       "      <td>0</td>\n",
       "      <td>0</td>\n",
       "      <td>0</td>\n",
       "      <td>0</td>\n",
       "      <td>0</td>\n",
       "      <td>0</td>\n",
       "      <td>0</td>\n",
       "      <td>0</td>\n",
       "      <td>2</td>\n",
       "      <td>1</td>\n",
       "      <td>0</td>\n",
       "      <td>0</td>\n",
       "      <td>0</td>\n",
       "      <td>0</td>\n",
       "      <td>0</td>\n",
       "      <td>0</td>\n",
       "      <td>0</td>\n",
       "      <td>0</td>\n",
       "      <td>0</td>\n",
       "      <td>0</td>\n",
       "      <td>0</td>\n",
       "    </tr>\n",
       "    <tr>\n",
       "      <th>2</th>\n",
       "      <td>94947</td>\n",
       "      <td>21</td>\n",
       "      <td>363</td>\n",
       "      <td>8973</td>\n",
       "      <td>2</td>\n",
       "      <td>10</td>\n",
       "      <td>5</td>\n",
       "      <td>5</td>\n",
       "      <td>2</td>\n",
       "      <td>2</td>\n",
       "      <td>0</td>\n",
       "      <td>0</td>\n",
       "      <td>3</td>\n",
       "      <td>3</td>\n",
       "      <td>2</td>\n",
       "      <td>0</td>\n",
       "      <td>1</td>\n",
       "      <td>0</td>\n",
       "      <td>0</td>\n",
       "      <td>0</td>\n",
       "      <td>0</td>\n",
       "      <td>0</td>\n",
       "      <td>0</td>\n",
       "      <td>0</td>\n",
       "      <td>0</td>\n",
       "      <td>0</td>\n",
       "      <td>2</td>\n",
       "      <td>1</td>\n",
       "      <td>0</td>\n",
       "      <td>0</td>\n",
       "      <td>0</td>\n",
       "      <td>0</td>\n",
       "      <td>0</td>\n",
       "      <td>0</td>\n",
       "      <td>0</td>\n",
       "      <td>0</td>\n",
       "      <td>0</td>\n",
       "      <td>0</td>\n",
       "      <td>0</td>\n",
       "    </tr>\n",
       "    <tr>\n",
       "      <th>3</th>\n",
       "      <td>590882</td>\n",
       "      <td>22</td>\n",
       "      <td>418</td>\n",
       "      <td>10694</td>\n",
       "      <td>2</td>\n",
       "      <td>10</td>\n",
       "      <td>6</td>\n",
       "      <td>5</td>\n",
       "      <td>2</td>\n",
       "      <td>2</td>\n",
       "      <td>0</td>\n",
       "      <td>0</td>\n",
       "      <td>3</td>\n",
       "      <td>2</td>\n",
       "      <td>2</td>\n",
       "      <td>0</td>\n",
       "      <td>1</td>\n",
       "      <td>0</td>\n",
       "      <td>0</td>\n",
       "      <td>0</td>\n",
       "      <td>0</td>\n",
       "      <td>1</td>\n",
       "      <td>1</td>\n",
       "      <td>0</td>\n",
       "      <td>0</td>\n",
       "      <td>0</td>\n",
       "      <td>2</td>\n",
       "      <td>1</td>\n",
       "      <td>0</td>\n",
       "      <td>0</td>\n",
       "      <td>0</td>\n",
       "      <td>0</td>\n",
       "      <td>0</td>\n",
       "      <td>0</td>\n",
       "      <td>0</td>\n",
       "      <td>0</td>\n",
       "      <td>0</td>\n",
       "      <td>0</td>\n",
       "      <td>0</td>\n",
       "    </tr>\n",
       "    <tr>\n",
       "      <th>4</th>\n",
       "      <td>201944</td>\n",
       "      <td>11</td>\n",
       "      <td>131</td>\n",
       "      <td>1488</td>\n",
       "      <td>3</td>\n",
       "      <td>30</td>\n",
       "      <td>8</td>\n",
       "      <td>9</td>\n",
       "      <td>2</td>\n",
       "      <td>2</td>\n",
       "      <td>0</td>\n",
       "      <td>0</td>\n",
       "      <td>3</td>\n",
       "      <td>2</td>\n",
       "      <td>2</td>\n",
       "      <td>1</td>\n",
       "      <td>0</td>\n",
       "      <td>0</td>\n",
       "      <td>0</td>\n",
       "      <td>0</td>\n",
       "      <td>0</td>\n",
       "      <td>0</td>\n",
       "      <td>0</td>\n",
       "      <td>0</td>\n",
       "      <td>0</td>\n",
       "      <td>0</td>\n",
       "      <td>2</td>\n",
       "      <td>1</td>\n",
       "      <td>0</td>\n",
       "      <td>0</td>\n",
       "      <td>0</td>\n",
       "      <td>0</td>\n",
       "      <td>0</td>\n",
       "      <td>0</td>\n",
       "      <td>0</td>\n",
       "      <td>0</td>\n",
       "      <td>0</td>\n",
       "      <td>0</td>\n",
       "      <td>0</td>\n",
       "    </tr>\n",
       "  </tbody>\n",
       "</table>\n",
       "</div>"
      ],
      "text/plain": [
       "   building_id  geo_level_1_id  geo_level_2_id  geo_level_3_id  \\\n",
       "0       802906               6             487           12198   \n",
       "1        28830               8             900            2812   \n",
       "2        94947              21             363            8973   \n",
       "3       590882              22             418           10694   \n",
       "4       201944              11             131            1488   \n",
       "\n",
       "   count_floors_pre_eq  age  area_percentage  height_percentage  \\\n",
       "0                    2   30                6                  5   \n",
       "1                    2   10                8                  7   \n",
       "2                    2   10                5                  5   \n",
       "3                    2   10                6                  5   \n",
       "4                    3   30                8                  9   \n",
       "\n",
       "   land_surface_condition  foundation_type  roof_type  ground_floor_type  \\\n",
       "0                       2                2          0                  0   \n",
       "1                       1                2          0                  3   \n",
       "2                       2                2          0                  0   \n",
       "3                       2                2          0                  0   \n",
       "4                       2                2          0                  0   \n",
       "\n",
       "   other_floor_type  position  plan_configuration  \\\n",
       "0                 1         3                   2   \n",
       "1                 1         2                   2   \n",
       "2                 3         3                   2   \n",
       "3                 3         2                   2   \n",
       "4                 3         2                   2   \n",
       "\n",
       "   has_superstructure_adobe_mud  has_superstructure_mud_mortar_stone  \\\n",
       "0                             1                                    1   \n",
       "1                             0                                    1   \n",
       "2                             0                                    1   \n",
       "3                             0                                    1   \n",
       "4                             1                                    0   \n",
       "\n",
       "   has_superstructure_stone_flag  has_superstructure_cement_mortar_stone  \\\n",
       "0                              0                                       0   \n",
       "1                              0                                       0   \n",
       "2                              0                                       0   \n",
       "3                              0                                       0   \n",
       "4                              0                                       0   \n",
       "\n",
       "   has_superstructure_mud_mortar_brick  \\\n",
       "0                                    0   \n",
       "1                                    0   \n",
       "2                                    0   \n",
       "3                                    0   \n",
       "4                                    0   \n",
       "\n",
       "   has_superstructure_cement_mortar_brick  has_superstructure_timber  \\\n",
       "0                                       0                          0   \n",
       "1                                       0                          0   \n",
       "2                                       0                          0   \n",
       "3                                       0                          1   \n",
       "4                                       0                          0   \n",
       "\n",
       "   has_superstructure_bamboo  has_superstructure_rc_non_engineered  \\\n",
       "0                          0                                     0   \n",
       "1                          0                                     0   \n",
       "2                          0                                     0   \n",
       "3                          1                                     0   \n",
       "4                          0                                     0   \n",
       "\n",
       "   has_superstructure_rc_engineered  has_superstructure_other  \\\n",
       "0                                 0                         0   \n",
       "1                                 0                         0   \n",
       "2                                 0                         0   \n",
       "3                                 0                         0   \n",
       "4                                 0                         0   \n",
       "\n",
       "   legal_ownership_status  count_families  has_secondary_use  \\\n",
       "0                       2               1                  0   \n",
       "1                       2               1                  0   \n",
       "2                       2               1                  0   \n",
       "3                       2               1                  0   \n",
       "4                       2               1                  0   \n",
       "\n",
       "   has_secondary_use_agriculture  has_secondary_use_hotel  \\\n",
       "0                              0                        0   \n",
       "1                              0                        0   \n",
       "2                              0                        0   \n",
       "3                              0                        0   \n",
       "4                              0                        0   \n",
       "\n",
       "   has_secondary_use_rental  has_secondary_use_institution  \\\n",
       "0                         0                              0   \n",
       "1                         0                              0   \n",
       "2                         0                              0   \n",
       "3                         0                              0   \n",
       "4                         0                              0   \n",
       "\n",
       "   has_secondary_use_school  has_secondary_use_industry  \\\n",
       "0                         0                           0   \n",
       "1                         0                           0   \n",
       "2                         0                           0   \n",
       "3                         0                           0   \n",
       "4                         0                           0   \n",
       "\n",
       "   has_secondary_use_health_post  has_secondary_use_gov_office  \\\n",
       "0                              0                             0   \n",
       "1                              0                             0   \n",
       "2                              0                             0   \n",
       "3                              0                             0   \n",
       "4                              0                             0   \n",
       "\n",
       "   has_secondary_use_use_police  has_secondary_use_other  \n",
       "0                             0                        0  \n",
       "1                             0                        0  \n",
       "2                             0                        0  \n",
       "3                             0                        0  \n",
       "4                             0                        0  "
      ]
     },
     "execution_count": 15,
     "metadata": {},
     "output_type": "execute_result"
    }
   ],
   "source": [
    "train.head()"
   ]
  },
  {
   "cell_type": "markdown",
   "metadata": {},
   "source": [
    "***\n",
    "**Data Splitting**\n",
    "***"
   ]
  },
  {
   "cell_type": "code",
   "execution_count": 16,
   "metadata": {},
   "outputs": [],
   "source": [
    "y = labels.pop('damage_grade')  \n",
    "x = train.drop([\"building_id\"],axis=1)"
   ]
  },
  {
   "cell_type": "code",
   "execution_count": 17,
   "metadata": {},
   "outputs": [
    {
     "name": "stdout",
     "output_type": "stream",
     "text": [
      "Original dataset shape: (260601, 38)\n",
      "Original labelset shape: (260601,)\n"
     ]
    }
   ],
   "source": [
    "print('Original dataset shape:', x.shape)\n",
    "print('Original labelset shape:', y.shape)"
   ]
  },
  {
   "cell_type": "code",
   "execution_count": 18,
   "metadata": {},
   "outputs": [],
   "source": [
    "# keep the same random state for reproducibility\n",
    "RANDOM_STATE = 12\n",
    "TRAIN_TEST_SPLIT_SIZE = .1"
   ]
  },
  {
   "cell_type": "code",
   "execution_count": 19,
   "metadata": {},
   "outputs": [],
   "source": [
    "# stratify on damage_grade\n",
    "x_train, x_test, y_train, y_test = train_test_split(x, y, \n",
    "                                                    test_size = TRAIN_TEST_SPLIT_SIZE, \n",
    "                                                    stratify = y,\n",
    "                                                    random_state = RANDOM_STATE)"
   ]
  },
  {
   "cell_type": "code",
   "execution_count": 20,
   "metadata": {},
   "outputs": [],
   "source": [
    "# transform the training dataset only\n",
    "sm = SMOTE(random_state = RANDOM_STATE)\n",
    "x_train_sm, y_train_sm = sm.fit_resample(x_train, y_train)"
   ]
  },
  {
   "cell_type": "code",
   "execution_count": 21,
   "metadata": {},
   "outputs": [
    {
     "name": "stdout",
     "output_type": "stream",
     "text": [
      "Training dataset shape: (234540, 38)\n",
      "Training labelset shape: (234540,)\n"
     ]
    }
   ],
   "source": [
    "print('Training dataset shape:', x_train.shape)\n",
    "print('Training labelset shape:', y_train.shape)"
   ]
  },
  {
   "cell_type": "code",
   "execution_count": 22,
   "metadata": {},
   "outputs": [
    {
     "name": "stdout",
     "output_type": "stream",
     "text": [
      "Test labelset shape: (26061,)\n",
      "Test dataset shape: (26061, 38)\n"
     ]
    }
   ],
   "source": [
    "print('Test labelset shape:', y_test.shape)\n",
    "print('Test dataset shape:', x_test.shape)"
   ]
  },
  {
   "cell_type": "code",
   "execution_count": 23,
   "metadata": {},
   "outputs": [
    {
     "name": "stdout",
     "output_type": "stream",
     "text": [
      "Resampled training dataset shape: (400299, 38)\n",
      "Resampled training labelset shape: (400299,)\n"
     ]
    }
   ],
   "source": [
    "print('Resampled training dataset shape:', x_train_sm.shape)\n",
    "print('Resampled training labelset shape:', y_train_sm.shape)"
   ]
  },
  {
   "cell_type": "code",
   "execution_count": 24,
   "metadata": {},
   "outputs": [],
   "source": [
    "# Saving feature names for later use\n",
    "feature_names = list(x_train.columns)"
   ]
  },
  {
   "cell_type": "markdown",
   "metadata": {},
   "source": [
    "Scaling is done to Normalize data so that priority is not given to a particular feature. the role of scaling is mostly important in algorithms that are distance based and require Euclidean Distance.\n",
    "\n",
    "Random Forest is a tree-based model and hence does not require feature scaling."
   ]
  },
  {
   "cell_type": "markdown",
   "metadata": {},
   "source": [
    "***\n",
    "**Functions**\n",
    "***"
   ]
  },
  {
   "cell_type": "code",
   "execution_count": 25,
   "metadata": {},
   "outputs": [],
   "source": [
    "# setup color scheme and standard figure size for all figures\n",
    "mpl.rcParams['figure.figsize'] = (12, 10)\n",
    "colors = plt.rcParams['axes.prop_cycle'].by_key()['color']"
   ]
  },
  {
   "cell_type": "code",
   "execution_count": 26,
   "metadata": {},
   "outputs": [],
   "source": [
    "def plot_cfm(labels, predictions, p = 0.5):\n",
    "    cfm = metrics.confusion_matrix(labels, predictions > p)\n",
    "    plt.figure(figsize = (5,5))\n",
    "    sns.heatmap(cfm, annot = True, fmt = \"d\")\n",
    "    plt.title('Confusion matrix @{:.2f}'.format(p))\n",
    "    plt.ylabel('Actual values')\n",
    "    plt.xlabel('Predicted values')\n",
    "\n",
    "    print('True Negatives: ', cfm[0][0])\n",
    "    print('False Positives: ', cfm[0][1])\n",
    "    print('False Negatives: ', cfm[1][0])\n",
    "    print('True Positives: ', cfm[1][1])"
   ]
  },
  {
   "cell_type": "code",
   "execution_count": 27,
   "metadata": {},
   "outputs": [],
   "source": [
    "def plot_roc(name, labels, predictions, **kwargs):\n",
    "    fp, tp, _ = roc_curve(labels, predictions)\n",
    "    roc_auc = metrics.auc(fp, tp)    \n",
    "    plt.title('Receiver Operating Characteristic')\n",
    "    plt.plot(fp, tp, label = name + ' AUC = %0.2f' % roc_auc, linewidth=2, **kwargs)\n",
    "    plt.legend(loc = 'lower right')\n",
    "    plt.plot([0, 1], [0, 1], linewidth=2, color=colors[6], linestyle=':')\n",
    "    plt.xlabel('False positives [%]')\n",
    "    plt.ylabel('True positives [%]')\n",
    "    plt.grid(True)\n",
    "    ax = plt.gca()\n",
    "    ax.set_aspect('equal')"
   ]
  },
  {
   "cell_type": "code",
   "execution_count": 28,
   "metadata": {},
   "outputs": [],
   "source": [
    "def check_model_and_test(x_train, y_train, x_test, y_test, classifiers):\n",
    "    for model in classifiers:\n",
    "        this_model = model.__class__.__name__ #get the name of the classifier\n",
    "        model.fit(x_train, y_train)\n",
    "        y_pred = model.predict(x_test)\n",
    "        \n",
    "        print(f'{this_model} f1 score:')\n",
    "        score = f1_score(y_test, y_pred, average='micro')\n",
    "        print(f'{score:.4f}')\n",
    "        print('\\n')"
   ]
  },
  {
   "cell_type": "markdown",
   "metadata": {},
   "source": [
    "***\n",
    "**Models**\n",
    "***"
   ]
  },
  {
   "cell_type": "code",
   "execution_count": 29,
   "metadata": {},
   "outputs": [],
   "source": [
    "classifiers = [\n",
    "    KNeighborsClassifier(),\n",
    "    DecisionTreeClassifier(),\n",
    "    RandomForestClassifier(),\n",
    "    AdaBoostClassifier(),\n",
    "    GradientBoostingClassifier()]"
   ]
  },
  {
   "cell_type": "code",
   "execution_count": 30,
   "metadata": {},
   "outputs": [
    {
     "name": "stdout",
     "output_type": "stream",
     "text": [
      "KNeighborsClassifier f1 score:\n",
      "0.7058\n",
      "\n",
      "\n",
      "DecisionTreeClassifier f1 score:\n",
      "0.6555\n",
      "\n",
      "\n",
      "RandomForestClassifier f1 score:\n",
      "0.7210\n",
      "\n",
      "\n",
      "AdaBoostClassifier f1 score:\n",
      "0.6425\n",
      "\n",
      "\n",
      "GradientBoostingClassifier f1 score:\n",
      "0.6770\n",
      "\n",
      "\n"
     ]
    }
   ],
   "source": [
    "check_model_and_test(x_train, y_train, x_test, y_test, classifiers)"
   ]
  },
  {
   "cell_type": "markdown",
   "metadata": {},
   "source": [
    "***\n",
    "**Experiment Plan**\n",
    "***\n",
    "\n",
    "Looks like RandomForest performs pretty well and gives a decent f1 score. For the next part, let's focus on trying to find out whether upsampling the imbalanced class will help to increase the dataset prediction or not. "
   ]
  },
  {
   "cell_type": "code",
   "execution_count": 31,
   "metadata": {},
   "outputs": [
    {
     "name": "stdout",
     "output_type": "stream",
     "text": [
      "KNeighborsClassifier f1 score:\n",
      "0.6669\n",
      "\n",
      "\n",
      "DecisionTreeClassifier f1 score:\n",
      "0.6422\n",
      "\n",
      "\n",
      "RandomForestClassifier f1 score:\n",
      "0.7040\n",
      "\n",
      "\n",
      "AdaBoostClassifier f1 score:\n",
      "0.5662\n",
      "\n",
      "\n",
      "GradientBoostingClassifier f1 score:\n",
      "0.6265\n",
      "\n",
      "\n"
     ]
    }
   ],
   "source": [
    "check_model_and_test(x_train_sm, y_train_sm, x_test, y_test, classifiers)"
   ]
  },
  {
   "cell_type": "markdown",
   "metadata": {},
   "source": [
    "So far it looks like upsampling using SMOTE does not improve the prediction score, on the contrary, all classifiers consistently score lower. I'll try to run a couple of experiments later on, when after hyperparameter optimization to see if this changes. "
   ]
  },
  {
   "cell_type": "markdown",
   "metadata": {},
   "source": [
    "***\n",
    "**Random Forest**\n",
    "***\n",
    "Random Forest is an ensemble bagging model. It creates a set of decision trees from randomly selected subset of training set and then aggregates the votes from different decision trees to decide the final class of the test object. In that way, random forest will get lower variance compared to decision tree because the decision tree is more sensitive to specific data and only one single decision tree is built. Moreover, random forest will get less overfit issues even when the number of trees is increased. "
   ]
  },
  {
   "cell_type": "code",
   "execution_count": 32,
   "metadata": {},
   "outputs": [],
   "source": [
    "rf_clf = RandomForestClassifier()\n",
    "\n",
    "rf_clf.fit(x_train, y_train)\n",
    "y_pred_rf = rf_clf.predict(x_test)"
   ]
  },
  {
   "cell_type": "code",
   "execution_count": 33,
   "metadata": {},
   "outputs": [
    {
     "data": {
      "text/plain": [
       "(array([0.5, 1.5, 2.5]), <a list of 3 Text major ticklabel objects>)"
      ]
     },
     "execution_count": 33,
     "metadata": {},
     "output_type": "execute_result"
    },
    {
     "data": {
      "image/png": "[encoded data removed]",
      "text/plain": [
       "<Figure size 1440x576 with 2 Axes>"
      ]
     },
     "metadata": {
      "needs_background": "light"
     },
     "output_type": "display_data"
    }
   ],
   "source": [
    "df_cm_rf = pd.DataFrame(confusion_matrix(y_test, y_pred_rf), columns=np.unique(y_test), index = np.unique(y_test))\n",
    "df_cm_rf.index.name = 'Actual'\n",
    "df_cm_rf.columns.name = 'Predicted'\n",
    "\n",
    "plt.figure(figsize=(20,8))\n",
    "\n",
    "# plt.subplot(1,2,1)\n",
    "sns.heatmap(df_cm_rf, annot=True, fmt='d', annot_kws={\"size\": 14})\n",
    "plt.title(\"Confusion Matrix for Random Forest\")\n",
    "plt.xticks(rotation=45)\n",
    "plt.yticks(rotation=360)"
   ]
  },
  {
   "cell_type": "markdown",
   "metadata": {},
   "source": [
    "We are doing decently on classifying label 2 accurately, but we are misclassiflying a big fraction of the other two labels. Label 2 refers to damage level 2, and almost 60% of the data are damage level 2 structures. Class imbalance seems to be causing some problem, but as we mentioned before, we tried using 'balanced' class weights to address class imbalance, but that hurt rather than helped our model performance.\n",
    "\n",
    "Let's look at the classification report."
   ]
  },
  {
   "cell_type": "code",
   "execution_count": 34,
   "metadata": {},
   "outputs": [
    {
     "name": "stdout",
     "output_type": "stream",
     "text": [
      "              precision    recall  f1-score   support\n",
      "\n",
      "           1       0.64      0.48      0.55      2513\n",
      "           2       0.73      0.82      0.77     14826\n",
      "           3       0.72      0.61      0.66      8722\n",
      "\n",
      "    accuracy                           0.72     26061\n",
      "   macro avg       0.69      0.64      0.66     26061\n",
      "weighted avg       0.72      0.72      0.71     26061\n",
      "\n"
     ]
    }
   ],
   "source": [
    "print(classification_report(y_test, y_pred_rf))"
   ]
  },
  {
   "cell_type": "markdown",
   "metadata": {},
   "source": [
    "These classification reports show that the prediction for `damage_grade` = 1 isn't really good, which can appear as a predictable result, looking at the `damage_grade` distribution."
   ]
  },
  {
   "cell_type": "code",
   "execution_count": 35,
   "metadata": {},
   "outputs": [
    {
     "data": {
      "text/html": [
       "<style  type=\"text/css\" >\n",
       "</style><table id=\"T_bd586898_9200_11eb_9362_7831c1ca3dd0\" style='display:inline'><caption>Top 15 Random Forest importance</caption><thead>    <tr>        <th class=\"blank level0\" ></th>        <th class=\"col_heading level0 col0\" >Features</th>        <th class=\"col_heading level0 col1\" >Importance_RF</th>    </tr></thead><tbody>\n",
       "                <tr>\n",
       "                        <th id=\"T_bd586898_9200_11eb_9362_7831c1ca3dd0level0_row0\" class=\"row_heading level0 row0\" >2</th>\n",
       "                        <td id=\"T_bd586898_9200_11eb_9362_7831c1ca3dd0row0_col0\" class=\"data row0 col0\" >geo_level_3_id</td>\n",
       "                        <td id=\"T_bd586898_9200_11eb_9362_7831c1ca3dd0row0_col1\" class=\"data row0 col1\" >0.155037</td>\n",
       "            </tr>\n",
       "            <tr>\n",
       "                        <th id=\"T_bd586898_9200_11eb_9362_7831c1ca3dd0level0_row1\" class=\"row_heading level0 row1\" >0</th>\n",
       "                        <td id=\"T_bd586898_9200_11eb_9362_7831c1ca3dd0row1_col0\" class=\"data row1 col0\" >geo_level_1_id</td>\n",
       "                        <td id=\"T_bd586898_9200_11eb_9362_7831c1ca3dd0row1_col1\" class=\"data row1 col1\" >0.137688</td>\n",
       "            </tr>\n",
       "            <tr>\n",
       "                        <th id=\"T_bd586898_9200_11eb_9362_7831c1ca3dd0level0_row2\" class=\"row_heading level0 row2\" >1</th>\n",
       "                        <td id=\"T_bd586898_9200_11eb_9362_7831c1ca3dd0row2_col0\" class=\"data row2 col0\" >geo_level_2_id</td>\n",
       "                        <td id=\"T_bd586898_9200_11eb_9362_7831c1ca3dd0row2_col1\" class=\"data row2 col1\" >0.135780</td>\n",
       "            </tr>\n",
       "            <tr>\n",
       "                        <th id=\"T_bd586898_9200_11eb_9362_7831c1ca3dd0level0_row3\" class=\"row_heading level0 row3\" >4</th>\n",
       "                        <td id=\"T_bd586898_9200_11eb_9362_7831c1ca3dd0row3_col0\" class=\"data row3 col0\" >age</td>\n",
       "                        <td id=\"T_bd586898_9200_11eb_9362_7831c1ca3dd0row3_col1\" class=\"data row3 col1\" >0.122186</td>\n",
       "            </tr>\n",
       "            <tr>\n",
       "                        <th id=\"T_bd586898_9200_11eb_9362_7831c1ca3dd0level0_row4\" class=\"row_heading level0 row4\" >5</th>\n",
       "                        <td id=\"T_bd586898_9200_11eb_9362_7831c1ca3dd0row4_col0\" class=\"data row4 col0\" >area_percentage</td>\n",
       "                        <td id=\"T_bd586898_9200_11eb_9362_7831c1ca3dd0row4_col1\" class=\"data row4 col1\" >0.111909</td>\n",
       "            </tr>\n",
       "            <tr>\n",
       "                        <th id=\"T_bd586898_9200_11eb_9362_7831c1ca3dd0level0_row5\" class=\"row_heading level0 row5\" >6</th>\n",
       "                        <td id=\"T_bd586898_9200_11eb_9362_7831c1ca3dd0row5_col0\" class=\"data row5 col0\" >height_percentage</td>\n",
       "                        <td id=\"T_bd586898_9200_11eb_9362_7831c1ca3dd0row5_col1\" class=\"data row5 col1\" >0.055454</td>\n",
       "            </tr>\n",
       "            <tr>\n",
       "                        <th id=\"T_bd586898_9200_11eb_9362_7831c1ca3dd0level0_row6\" class=\"row_heading level0 row6\" >26</th>\n",
       "                        <td id=\"T_bd586898_9200_11eb_9362_7831c1ca3dd0row6_col0\" class=\"data row6 col0\" >count_families</td>\n",
       "                        <td id=\"T_bd586898_9200_11eb_9362_7831c1ca3dd0row6_col1\" class=\"data row6 col1\" >0.025375</td>\n",
       "            </tr>\n",
       "            <tr>\n",
       "                        <th id=\"T_bd586898_9200_11eb_9362_7831c1ca3dd0level0_row7\" class=\"row_heading level0 row7\" >9</th>\n",
       "                        <td id=\"T_bd586898_9200_11eb_9362_7831c1ca3dd0row7_col0\" class=\"data row7 col0\" >roof_type</td>\n",
       "                        <td id=\"T_bd586898_9200_11eb_9362_7831c1ca3dd0row7_col1\" class=\"data row7 col1\" >0.024724</td>\n",
       "            </tr>\n",
       "            <tr>\n",
       "                        <th id=\"T_bd586898_9200_11eb_9362_7831c1ca3dd0level0_row8\" class=\"row_heading level0 row8\" >8</th>\n",
       "                        <td id=\"T_bd586898_9200_11eb_9362_7831c1ca3dd0row8_col0\" class=\"data row8 col0\" >foundation_type</td>\n",
       "                        <td id=\"T_bd586898_9200_11eb_9362_7831c1ca3dd0row8_col1\" class=\"data row8 col1\" >0.024267</td>\n",
       "            </tr>\n",
       "            <tr>\n",
       "                        <th id=\"T_bd586898_9200_11eb_9362_7831c1ca3dd0level0_row9\" class=\"row_heading level0 row9\" >12</th>\n",
       "                        <td id=\"T_bd586898_9200_11eb_9362_7831c1ca3dd0row9_col0\" class=\"data row9 col0\" >position</td>\n",
       "                        <td id=\"T_bd586898_9200_11eb_9362_7831c1ca3dd0row9_col1\" class=\"data row9 col1\" >0.021810</td>\n",
       "            </tr>\n",
       "            <tr>\n",
       "                        <th id=\"T_bd586898_9200_11eb_9362_7831c1ca3dd0level0_row10\" class=\"row_heading level0 row10\" >7</th>\n",
       "                        <td id=\"T_bd586898_9200_11eb_9362_7831c1ca3dd0row10_col0\" class=\"data row10 col0\" >land_surface_condition</td>\n",
       "                        <td id=\"T_bd586898_9200_11eb_9362_7831c1ca3dd0row10_col1\" class=\"data row10 col1\" >0.019149</td>\n",
       "            </tr>\n",
       "            <tr>\n",
       "                        <th id=\"T_bd586898_9200_11eb_9362_7831c1ca3dd0level0_row11\" class=\"row_heading level0 row11\" >11</th>\n",
       "                        <td id=\"T_bd586898_9200_11eb_9362_7831c1ca3dd0row11_col0\" class=\"data row11 col0\" >other_floor_type</td>\n",
       "                        <td id=\"T_bd586898_9200_11eb_9362_7831c1ca3dd0row11_col1\" class=\"data row11 col1\" >0.018154</td>\n",
       "            </tr>\n",
       "            <tr>\n",
       "                        <th id=\"T_bd586898_9200_11eb_9362_7831c1ca3dd0level0_row12\" class=\"row_heading level0 row12\" >10</th>\n",
       "                        <td id=\"T_bd586898_9200_11eb_9362_7831c1ca3dd0row12_col0\" class=\"data row12 col0\" >ground_floor_type</td>\n",
       "                        <td id=\"T_bd586898_9200_11eb_9362_7831c1ca3dd0row12_col1\" class=\"data row12 col1\" >0.017473</td>\n",
       "            </tr>\n",
       "            <tr>\n",
       "                        <th id=\"T_bd586898_9200_11eb_9362_7831c1ca3dd0level0_row13\" class=\"row_heading level0 row13\" >3</th>\n",
       "                        <td id=\"T_bd586898_9200_11eb_9362_7831c1ca3dd0row13_col0\" class=\"data row13 col0\" >count_floors_pre_eq</td>\n",
       "                        <td id=\"T_bd586898_9200_11eb_9362_7831c1ca3dd0row13_col1\" class=\"data row13 col1\" >0.017352</td>\n",
       "            </tr>\n",
       "            <tr>\n",
       "                        <th id=\"T_bd586898_9200_11eb_9362_7831c1ca3dd0level0_row14\" class=\"row_heading level0 row14\" >15</th>\n",
       "                        <td id=\"T_bd586898_9200_11eb_9362_7831c1ca3dd0row14_col0\" class=\"data row14 col0\" >has_superstructure_mud_mortar_stone</td>\n",
       "                        <td id=\"T_bd586898_9200_11eb_9362_7831c1ca3dd0row14_col1\" class=\"data row14 col1\" >0.015587</td>\n",
       "            </tr>\n",
       "    </tbody></table>"
      ]
     },
     "metadata": {},
     "output_type": "display_data"
    }
   ],
   "source": [
    "importance_rf = pd.DataFrame({\"Features\":x.columns, \"Importance_RF\":rf_clf.feature_importances_}).sort_values(by='Importance_RF', ascending = False).head(15)\n",
    "# importance_xgb = pd.DataFrame({\"Features\":x.columns, \"Importance_XGB\":xgb_clf.feature_importances_}).sort_values(by='Importance_XGB', ascending = False).head(15)\n",
    "\n",
    "RF_styler = importance_rf.style.set_table_attributes(\"style='display:inline'\").set_caption('Top 15 Random Forest importance')\n",
    "# XGB_styler = importance_xgb.style.set_table_attributes(\"style='display:inline'\").set_caption('Top 15 XGBoost importance')\n",
    "from IPython.display import display_html \n",
    "display_html(RF_styler._repr_html_(), raw=True)\n",
    "# + XGB_styler._repr_html_(), raw=True)"
   ]
  },
  {
   "cell_type": "markdown",
   "metadata": {},
   "source": [
    "The next steps would be to concentrate on Random Forest and other Boosting an Bagging algorithm like XGBoost or CatBoost:\n",
    "- how to improve these results by tuning the hyperparameters.\n",
    "- trying to find out whether more feature engineering, removing outliers, and PCA transformation will help to increase the dataset prediction or not. "
   ]
  },
  {
   "cell_type": "markdown",
   "metadata": {},
   "source": [
    "Machine learning still suffers from a black box problem, and one image is not going to solve the issue! Nonetheless, looking at an individual decision tree shows us this model (and a random forest) is not an unexplainable method, but a sequence of logical questions and answers — much as we would form when making predictions. "
   ]
  },
  {
   "cell_type": "code",
   "execution_count": null,
   "metadata": {},
   "outputs": [],
   "source": []
  },
  {
   "cell_type": "code",
   "execution_count": null,
   "metadata": {},
   "outputs": [],
   "source": []
  }
 ],
 "metadata": {
  "kernelspec": {
   "display_name": "Python 3",
   "language": "python",
   "name": "python3"
  },
  "language_info": {
   "codemirror_mode": {
    "name": "ipython",
    "version": 3
   },
   "file_extension": ".py",
   "mimetype": "text/x-python",
   "name": "python",
   "nbconvert_exporter": "python",
   "pygments_lexer": "ipython3",
   "version": "3.8.3"
  }
 },
 "nbformat": 4,
 "nbformat_minor": 4
}
